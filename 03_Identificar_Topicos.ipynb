{
 "cells": [
  {
   "cell_type": "markdown",
   "id": "25c9a93c",
   "metadata": {},
   "source": [
    "Vamos explorar um pouco os principais topicos de apresentados nos comentarios de cada usuario."
   ]
  },
  {
   "cell_type": "markdown",
   "id": "c7890308",
   "metadata": {},
   "source": [
    "Para esse fim poderiamos utilizar uma abordagem baseada em LLM como na Identificação de Promotor e Detrator.\\\n",
    "Mas na intenção de demonstrar um maior leque de conhecimentos e embassamento classico, vamos utilizar BERTopic\\\n",
    "Que demanda do conhecimento de preprocessamento e limpeza classicos de NLP"
   ]
  },
  {
   "cell_type": "code",
   "execution_count": 3,
   "id": "608a34ac",
   "metadata": {},
   "outputs": [],
   "source": [
    "import pandas as pd\n",
    "\n",
    "df = pd.read_csv('data/04_nlp_classificados.csv')"
   ]
  },
  {
   "cell_type": "code",
   "execution_count": 4,
   "id": "e477f964",
   "metadata": {},
   "outputs": [
    {
     "name": "stderr",
     "output_type": "stream",
     "text": [
      "[nltk_data] Downloading package stopwords to\n",
      "[nltk_data]     /home/phelipe/nltk_data...\n",
      "[nltk_data]   Package stopwords is already up-to-date!\n",
      "[nltk_data] Downloading package rslp to /home/phelipe/nltk_data...\n",
      "[nltk_data]   Package rslp is already up-to-date!\n"
     ]
    }
   ],
   "source": [
    "import re\n",
    "import unidecode\n",
    "import nltk\n",
    "from nltk.corpus import stopwords\n",
    "from nltk.stem import RSLPStemmer\n",
    "\n",
    "# Baixar stopwords e stemmer do NLTK (roda só uma vez)\n",
    "nltk.download(\"stopwords\")\n",
    "nltk.download('rslp')\n",
    "\n",
    "# Lista de stopwords em português\n",
    "stop_words = set(stopwords.words(\"portuguese\"))\n",
    "\n",
    "stemmer = RSLPStemmer()\n",
    "\n",
    "# Função de pré-processamento\n",
    "def preprocess(text):\n",
    "    text = unidecode.unidecode(text)\n",
    "    text = text.lower()\n",
    "    text = re.sub(r\"[^\\w\\s]\", \"\", text)\n",
    "    text = re.sub(r\"\\d+\", \"\", text)\n",
    "    tokens = text.split()\n",
    "    tokens = [\n",
    "        stemmer.stem(t) \n",
    "        for t in tokens \n",
    "        if t not in stop_words and len(t) > 4\n",
    "    ]\n",
    "    return \" \".join(tokens)\n",
    "\n",
    "# Pré-processar os comentários\n",
    "df[\"comments_pre\"] = df[\"comments\"].astype(str).apply(preprocess)"
   ]
  },
  {
   "cell_type": "markdown",
   "id": "f175d853",
   "metadata": {},
   "source": [
    "Acima usamos nltk para pegar uma lista pronta de stopwords\\\n",
    "(que descrevem palavras sem conteudo proprio, apenas apoiam a coerencia do texto)."
   ]
  },
  {
   "cell_type": "code",
   "execution_count": 5,
   "id": "8cb8c5c8",
   "metadata": {},
   "outputs": [
    {
     "name": "stderr",
     "output_type": "stream",
     "text": [
      "/home/phelipe/projects/pessoal/churn_basedOn_nlp/.venv/lib/python3.12/site-packages/tqdm/auto.py:21: TqdmWarning: IProgress not found. Please update jupyter and ipywidgets. See https://ipywidgets.readthedocs.io/en/stable/user_install.html\n",
      "  from .autonotebook import tqdm as notebook_tqdm\n"
     ]
    },
    {
     "name": "stdout",
     "output_type": "stream",
     "text": [
      "topic\n",
      " 0    58\n",
      " 1    15\n",
      " 2    11\n",
      " 3    10\n",
      "-1     8\n",
      "Name: count, dtype: int64\n"
     ]
    }
   ],
   "source": [
    "\n",
    "from bertopic import BERTopic\n",
    "from sentence_transformers import SentenceTransformer\n",
    "\n",
    "# Embedding model (CPU)\n",
    "embedding_model = SentenceTransformer(\"paraphrase-multilingual-MiniLM-L12-v2\", device=\"cpu\")\n",
    "\n",
    "# Criar modelo BERTopic\n",
    "topic_model = BERTopic(embedding_model=embedding_model, \n",
    "                        language=\"portuguese\",\n",
    "                        min_topic_size=6)\n",
    "\n",
    "# Gerar tópicos\n",
    "topics, probs = topic_model.fit_transform(df[\"comments_pre\"])\n",
    "\n",
    "# Adicionar ao DataFrame\n",
    "df[\"topic\"] = topics\n",
    "\n",
    "df.drop(columns=[\"comments_pre\"], inplace=True)\n",
    "\n",
    "# Mostrar frequência dos tópicos\n",
    "print(df[\"topic\"].value_counts())"
   ]
  },
  {
   "cell_type": "markdown",
   "id": "b4abb22a",
   "metadata": {},
   "source": [
    "Foram encontrados 6 topicos (e 1 topico nulo) ao longo dos comentarios"
   ]
  },
  {
   "cell_type": "code",
   "execution_count": 6,
   "id": "0e54565d",
   "metadata": {},
   "outputs": [
    {
     "data": {
      "text/html": [
       "<div>\n",
       "<style scoped>\n",
       "    .dataframe tbody tr th:only-of-type {\n",
       "        vertical-align: middle;\n",
       "    }\n",
       "\n",
       "    .dataframe tbody tr th {\n",
       "        vertical-align: top;\n",
       "    }\n",
       "\n",
       "    .dataframe thead th {\n",
       "        text-align: right;\n",
       "    }\n",
       "</style>\n",
       "<table border=\"1\" class=\"dataframe\">\n",
       "  <thead>\n",
       "    <tr style=\"text-align: right;\">\n",
       "      <th></th>\n",
       "      <th>Topic</th>\n",
       "      <th>Count</th>\n",
       "      <th>Name</th>\n",
       "      <th>Representation</th>\n",
       "      <th>Representative_Docs</th>\n",
       "    </tr>\n",
       "  </thead>\n",
       "  <tbody>\n",
       "    <tr>\n",
       "      <th>0</th>\n",
       "      <td>-1</td>\n",
       "      <td>8</td>\n",
       "      <td>-1_pixel_contat_entr_problem</td>\n",
       "      <td>[pixel, contat, entr, problem, resolv, imag, f...</td>\n",
       "      <td>[problem fatur dest val cobr incorret consig e...</td>\n",
       "    </tr>\n",
       "    <tr>\n",
       "      <th>1</th>\n",
       "      <td>0</td>\n",
       "      <td>58</td>\n",
       "      <td>0_internet_serv_satisfeit_conexa</td>\n",
       "      <td>[internet, serv, satisfeit, conexa, problem, n...</td>\n",
       "      <td>[satisfeit serv telefon movel cham cl internet...</td>\n",
       "    </tr>\n",
       "    <tr>\n",
       "      <th>2</th>\n",
       "      <td>1</td>\n",
       "      <td>15</td>\n",
       "      <td>1_empr_complet_dess_telefon</td>\n",
       "      <td>[empr, complet, dess, telefon, horri, experien...</td>\n",
       "      <td>[telefon movel dess empr verd desastr cham com...</td>\n",
       "    </tr>\n",
       "    <tr>\n",
       "      <th>3</th>\n",
       "      <td>2</td>\n",
       "      <td>11</td>\n",
       "      <td>2_qual_nit_canal_excel</td>\n",
       "      <td>[qual, nit, canal, excel, imag, pouc, mens, va...</td>\n",
       "      <td>[bast satisfeit serv qual canal excel imag nit...</td>\n",
       "    </tr>\n",
       "    <tr>\n",
       "      <th>4</th>\n",
       "      <td>3</td>\n",
       "      <td>10</td>\n",
       "      <td>3_canal_sinal_const_client</td>\n",
       "      <td>[canal, sinal, const, client, pess, atend, alg...</td>\n",
       "      <td>[serv dess empr pi maior canal func sinal cons...</td>\n",
       "    </tr>\n",
       "  </tbody>\n",
       "</table>\n",
       "</div>"
      ],
      "text/plain": [
       "   Topic  Count                              Name  \\\n",
       "0     -1      8      -1_pixel_contat_entr_problem   \n",
       "1      0     58  0_internet_serv_satisfeit_conexa   \n",
       "2      1     15       1_empr_complet_dess_telefon   \n",
       "3      2     11            2_qual_nit_canal_excel   \n",
       "4      3     10        3_canal_sinal_const_client   \n",
       "\n",
       "                                      Representation  \\\n",
       "0  [pixel, contat, entr, problem, resolv, imag, f...   \n",
       "1  [internet, serv, satisfeit, conexa, problem, n...   \n",
       "2  [empr, complet, dess, telefon, horri, experien...   \n",
       "3  [qual, nit, canal, excel, imag, pouc, mens, va...   \n",
       "4  [canal, sinal, const, client, pess, atend, alg...   \n",
       "\n",
       "                                 Representative_Docs  \n",
       "0  [problem fatur dest val cobr incorret consig e...  \n",
       "1  [satisfeit serv telefon movel cham cl internet...  \n",
       "2  [telefon movel dess empr verd desastr cham com...  \n",
       "3  [bast satisfeit serv qual canal excel imag nit...  \n",
       "4  [serv dess empr pi maior canal func sinal cons...  "
      ]
     },
     "execution_count": 6,
     "metadata": {},
     "output_type": "execute_result"
    }
   ],
   "source": [
    "topic_model.get_topic_info()"
   ]
  },
  {
   "cell_type": "markdown",
   "id": "2f732ace",
   "metadata": {},
   "source": [
    "O BERTopic apresenta alguns nomes baseado nas palavras chaves, mas para facilitar o entendimento podemos renomear:"
   ]
  },
  {
   "cell_type": "code",
   "execution_count": 7,
   "id": "622c02f3",
   "metadata": {},
   "outputs": [],
   "source": [
    "map_topic = {\n",
    "    -1:\"other\",\n",
    "    0:\"internet_connection\",\n",
    "    1:\"critical_appointments\",\n",
    "    2:\"quality_tv_channels\",\n",
    "    3:\"signal\"\n",
    "    }\n",
    "\n",
    "df[\"topic\"] = df[\"topic\"].map(map_topic)"
   ]
  },
  {
   "cell_type": "markdown",
   "id": "343de89d",
   "metadata": {},
   "source": [
    "Em analise ocular encontrei mais um topico que acabou não sendo descrito pelo BERTopic: Atendimento\n",
    "\n",
    "vamos adiciona-lo manualmente"
   ]
  },
  {
   "cell_type": "code",
   "execution_count": 8,
   "id": "04b355bb",
   "metadata": {},
   "outputs": [],
   "source": [
    "# Definir tópico 'atendimento' onde 'atendimento' aparecer nos comentários\n",
    "df.loc[df['comments'].str.contains('atendimento', case=False, na=False), 'topic'] = 'atendimento'"
   ]
  },
  {
   "cell_type": "markdown",
   "id": "b0b4bded",
   "metadata": {},
   "source": [
    "Aqui de forma bem simples, pra todo comentario que tiver a palavra 'atendimento' assumimos que o assunto é 'atendimento'\n",
    "\n",
    "Explorei usar o lemma 'atend' mas muitos comentarios utilizam expressões como 'o serviço tem atendido minhas expectativas'"
   ]
  },
  {
   "cell_type": "code",
   "execution_count": 9,
   "id": "f5728635",
   "metadata": {},
   "outputs": [],
   "source": [
    "df.to_csv(\"data/05_nlp_classificados_topicos.csv\", index=False)"
   ]
  },
  {
   "cell_type": "markdown",
   "id": "f23aa7c6",
   "metadata": {},
   "source": [
    "Os topicos que conseguimos parece sempre ter uma relação muito grande com o serviço, vamos investigar essa relação para entender a utilidade desses topicos"
   ]
  },
  {
   "cell_type": "code",
   "execution_count": 10,
   "id": "010e7c90",
   "metadata": {},
   "outputs": [
    {
     "data": {
      "text/html": [
       "<div>\n",
       "<style scoped>\n",
       "    .dataframe tbody tr th:only-of-type {\n",
       "        vertical-align: middle;\n",
       "    }\n",
       "\n",
       "    .dataframe tbody tr th {\n",
       "        vertical-align: top;\n",
       "    }\n",
       "\n",
       "    .dataframe thead th {\n",
       "        text-align: right;\n",
       "    }\n",
       "</style>\n",
       "<table border=\"1\" class=\"dataframe\">\n",
       "  <thead>\n",
       "    <tr style=\"text-align: right;\">\n",
       "      <th></th>\n",
       "      <th>id</th>\n",
       "      <th>name</th>\n",
       "      <th>age</th>\n",
       "      <th>gender</th>\n",
       "      <th>location</th>\n",
       "      <th>marital_status</th>\n",
       "      <th>qtd_dependents</th>\n",
       "      <th>start_date</th>\n",
       "      <th>churn_date</th>\n",
       "      <th>price</th>\n",
       "      <th>service</th>\n",
       "      <th>tma</th>\n",
       "      <th>data_volume</th>\n",
       "      <th>qtd_appointments</th>\n",
       "      <th>comments</th>\n",
       "      <th>churn</th>\n",
       "      <th>classificacao</th>\n",
       "      <th>topic</th>\n",
       "    </tr>\n",
       "  </thead>\n",
       "  <tbody>\n",
       "    <tr>\n",
       "      <th>0</th>\n",
       "      <td>1</td>\n",
       "      <td>João Silva</td>\n",
       "      <td>35</td>\n",
       "      <td>Masculino</td>\n",
       "      <td>SP</td>\n",
       "      <td>Casado</td>\n",
       "      <td>2</td>\n",
       "      <td>2018-05-10</td>\n",
       "      <td>NaN</td>\n",
       "      <td>79.99</td>\n",
       "      <td>Telefonia Móvel</td>\n",
       "      <td>270.0</td>\n",
       "      <td>2.3</td>\n",
       "      <td>2.0</td>\n",
       "      <td>O serviço de internet tem sido instável. Estou...</td>\n",
       "      <td>False</td>\n",
       "      <td>Detrator</td>\n",
       "      <td>internet_connection</td>\n",
       "    </tr>\n",
       "    <tr>\n",
       "      <th>1</th>\n",
       "      <td>2</td>\n",
       "      <td>Maria Santos</td>\n",
       "      <td>28</td>\n",
       "      <td>Feminino</td>\n",
       "      <td>RJ</td>\n",
       "      <td>Solteiro</td>\n",
       "      <td>0</td>\n",
       "      <td>2019-03-15</td>\n",
       "      <td>NaN</td>\n",
       "      <td>109.99</td>\n",
       "      <td>Internet</td>\n",
       "      <td>0.0</td>\n",
       "      <td>0.0</td>\n",
       "      <td>0.0</td>\n",
       "      <td>Estou satisfeita com o serviço. A velocidade d...</td>\n",
       "      <td>False</td>\n",
       "      <td>Promotor</td>\n",
       "      <td>internet_connection</td>\n",
       "    </tr>\n",
       "  </tbody>\n",
       "</table>\n",
       "</div>"
      ],
      "text/plain": [
       "   id          name  age     gender location marital_status  qtd_dependents  \\\n",
       "0   1    João Silva   35  Masculino       SP         Casado               2   \n",
       "1   2  Maria Santos   28   Feminino       RJ       Solteiro               0   \n",
       "\n",
       "   start_date churn_date   price          service    tma  data_volume  \\\n",
       "0  2018-05-10        NaN   79.99  Telefonia Móvel  270.0          2.3   \n",
       "1  2019-03-15        NaN  109.99         Internet    0.0          0.0   \n",
       "\n",
       "   qtd_appointments                                           comments  churn  \\\n",
       "0               2.0  O serviço de internet tem sido instável. Estou...  False   \n",
       "1               0.0  Estou satisfeita com o serviço. A velocidade d...  False   \n",
       "\n",
       "  classificacao                topic  \n",
       "0      Detrator  internet_connection  \n",
       "1      Promotor  internet_connection  "
      ]
     },
     "execution_count": 10,
     "metadata": {},
     "output_type": "execute_result"
    }
   ],
   "source": [
    "import pandas as pd\n",
    "\n",
    "df = pd.read_csv(\"data/05_nlp_classificados_topicos.csv\")\n",
    "\n",
    "df.head(2)"
   ]
  },
  {
   "cell_type": "code",
   "execution_count": 11,
   "id": "53bcaea8",
   "metadata": {},
   "outputs": [
    {
     "name": "stdout",
     "output_type": "stream",
     "text": [
      "Telefonia Móvel\n",
      "    internet_connection: 13\n",
      "    atendimento: 0\n",
      "    other: 2\n",
      "    signal: 0\n",
      "    critical_appointments: 8\n",
      "    quality_tv_channels: 0\n",
      "Internet\n",
      "    internet_connection: 30\n",
      "    atendimento: 1\n",
      "    other: 0\n",
      "    signal: 0\n",
      "    critical_appointments: 0\n",
      "    quality_tv_channels: 0\n",
      "Telefonia Fixa\n",
      "    internet_connection: 7\n",
      "    atendimento: 9\n",
      "    other: 0\n",
      "    signal: 0\n",
      "    critical_appointments: 7\n",
      "    quality_tv_channels: 0\n",
      "TV a Cabo\n",
      "    internet_connection: 1\n",
      "    atendimento: 7\n",
      "    other: 4\n",
      "    signal: 2\n",
      "    critical_appointments: 0\n",
      "    quality_tv_channels: 11\n"
     ]
    }
   ],
   "source": [
    "for service in df[\"service\"].unique():\n",
    "    print(service)\n",
    "    for topic in df[\"topic\"].unique():\n",
    "        temp_df = df[(df[\"service\"]==service) & (df[\"topic\"]==topic)]\n",
    "        print(f\"    {topic}: {temp_df.shape[0]}\")\n"
   ]
  },
  {
   "cell_type": "markdown",
   "id": "2fc517ce",
   "metadata": {},
   "source": [
    "Basicamente com exceção de critical_appointments e atendimento, cada outro topico é bem associado a um serviço\n",
    "\n",
    "Vamos explorar especificamente os detratores"
   ]
  },
  {
   "cell_type": "code",
   "execution_count": 12,
   "id": "dfcc272c",
   "metadata": {},
   "outputs": [
    {
     "name": "stdout",
     "output_type": "stream",
     "text": [
      "Telefonia Móvel\n",
      "    internet_connection: 3\n",
      "    atendimento: 0\n",
      "    other: 0\n",
      "    signal: 0\n",
      "    critical_appointments: 8\n",
      "Internet\n",
      "    internet_connection: 14\n",
      "    atendimento: 1\n",
      "    other: 0\n",
      "    signal: 0\n",
      "    critical_appointments: 0\n",
      "TV a Cabo\n",
      "    internet_connection: 0\n",
      "    atendimento: 7\n",
      "    other: 4\n",
      "    signal: 2\n",
      "    critical_appointments: 0\n",
      "Telefonia Fixa\n",
      "    internet_connection: 0\n",
      "    atendimento: 2\n",
      "    other: 0\n",
      "    signal: 0\n",
      "    critical_appointments: 6\n"
     ]
    }
   ],
   "source": [
    "df_detratores = df[df[\"classificacao\"]==\"Detrator\"]\n",
    "\n",
    "for service in df_detratores[\"service\"].unique():\n",
    "    print(service)\n",
    "    for topic in df_detratores[\"topic\"].unique():\n",
    "        temp_df = df_detratores[(df_detratores[\"service\"]==service) & (df_detratores[\"topic\"]==topic)]\n",
    "        print(f\"    {topic}: {temp_df.shape[0]}\")\n"
   ]
  },
  {
   "cell_type": "markdown",
   "id": "8d78aace",
   "metadata": {},
   "source": [
    "Certo, aqui podemos começar a ter insights sobre onde atuar:\n",
    "\n",
    "**critical_appointments** no geral tem pouca informação, é apenas alguem bem chateado com os serviços insultando a empresa.\\\n",
    "Talvez possamos encontrar nesses casos reclamações anteriores que possam indicar melhor as dores do cliente e possiveis caminhos para reverter esse, provavel, churn eminente\n",
    "\n",
    "Logo depois tempos **Atendimento**, que chama bastante atençao por ser um topico cross os serviços.\n",
    "\n",
    "E então temos as reclamações relacionadas ao serviço em si: **internet_connection** e **signal**"
   ]
  },
  {
   "cell_type": "markdown",
   "id": "af27d22b",
   "metadata": {},
   "source": [
    "Vamos explorar uma ultima ótica deste ultimos 2 topicos no proximo IPYNB"
   ]
  }
 ],
 "metadata": {
  "kernelspec": {
   "display_name": ".venv",
   "language": "python",
   "name": "python3"
  },
  "language_info": {
   "codemirror_mode": {
    "name": "ipython",
    "version": 3
   },
   "file_extension": ".py",
   "mimetype": "text/x-python",
   "name": "python",
   "nbconvert_exporter": "python",
   "pygments_lexer": "ipython3",
   "version": "3.12.3"
  }
 },
 "nbformat": 4,
 "nbformat_minor": 5
}
