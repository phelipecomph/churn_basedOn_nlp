{
 "cells": [
  {
   "cell_type": "markdown",
   "id": "3c7d6247",
   "metadata": {},
   "source": [
    "Nesse IPYNB vamos explorar o Topico de reclamações sobre Atendimento, o que tras um foco grande ao serviço de TV a Cabo, mas afeta todos os serviços"
   ]
  },
  {
   "cell_type": "code",
   "execution_count": 1,
   "id": "0004c55e",
   "metadata": {},
   "outputs": [
    {
     "name": "stdout",
     "output_type": "stream",
     "text": [
      "(47, 18)\n"
     ]
    },
    {
     "data": {
      "text/html": [
       "<div>\n",
       "<style scoped>\n",
       "    .dataframe tbody tr th:only-of-type {\n",
       "        vertical-align: middle;\n",
       "    }\n",
       "\n",
       "    .dataframe tbody tr th {\n",
       "        vertical-align: top;\n",
       "    }\n",
       "\n",
       "    .dataframe thead th {\n",
       "        text-align: right;\n",
       "    }\n",
       "</style>\n",
       "<table border=\"1\" class=\"dataframe\">\n",
       "  <thead>\n",
       "    <tr style=\"text-align: right;\">\n",
       "      <th></th>\n",
       "      <th>id</th>\n",
       "      <th>name</th>\n",
       "      <th>age</th>\n",
       "      <th>gender</th>\n",
       "      <th>location</th>\n",
       "      <th>marital_status</th>\n",
       "      <th>qtd_dependents</th>\n",
       "      <th>start_date</th>\n",
       "      <th>churn_date</th>\n",
       "      <th>price</th>\n",
       "      <th>service</th>\n",
       "      <th>tma</th>\n",
       "      <th>data_volume</th>\n",
       "      <th>qtd_appointments</th>\n",
       "      <th>comments</th>\n",
       "      <th>churn</th>\n",
       "      <th>classificacao</th>\n",
       "      <th>topic</th>\n",
       "    </tr>\n",
       "  </thead>\n",
       "  <tbody>\n",
       "    <tr>\n",
       "      <th>0</th>\n",
       "      <td>1</td>\n",
       "      <td>João Silva</td>\n",
       "      <td>35</td>\n",
       "      <td>Masculino</td>\n",
       "      <td>SP</td>\n",
       "      <td>Casado</td>\n",
       "      <td>2</td>\n",
       "      <td>2018-05-10</td>\n",
       "      <td>NaN</td>\n",
       "      <td>79.99</td>\n",
       "      <td>Telefonia Móvel</td>\n",
       "      <td>270.0</td>\n",
       "      <td>2.3</td>\n",
       "      <td>2.0</td>\n",
       "      <td>O serviço de internet tem sido instável. Estou...</td>\n",
       "      <td>False</td>\n",
       "      <td>Detrator</td>\n",
       "      <td>internet_connection</td>\n",
       "    </tr>\n",
       "    <tr>\n",
       "      <th>2</th>\n",
       "      <td>3</td>\n",
       "      <td>Carlos Oliveira</td>\n",
       "      <td>42</td>\n",
       "      <td>Masculino</td>\n",
       "      <td>MG</td>\n",
       "      <td>Casado</td>\n",
       "      <td>1</td>\n",
       "      <td>2020-01-20</td>\n",
       "      <td>2021-06-30</td>\n",
       "      <td>139.99</td>\n",
       "      <td>Internet</td>\n",
       "      <td>0.0</td>\n",
       "      <td>0.0</td>\n",
       "      <td>1.0</td>\n",
       "      <td>Tive problemas com a fatura deste mês. O valor...</td>\n",
       "      <td>True</td>\n",
       "      <td>Detrator</td>\n",
       "      <td>atendimento</td>\n",
       "    </tr>\n",
       "  </tbody>\n",
       "</table>\n",
       "</div>"
      ],
      "text/plain": [
       "   id             name  age     gender location marital_status  \\\n",
       "0   1       João Silva   35  Masculino       SP         Casado   \n",
       "2   3  Carlos Oliveira   42  Masculino       MG         Casado   \n",
       "\n",
       "   qtd_dependents  start_date  churn_date   price          service    tma  \\\n",
       "0               2  2018-05-10         NaN   79.99  Telefonia Móvel  270.0   \n",
       "2               1  2020-01-20  2021-06-30  139.99         Internet    0.0   \n",
       "\n",
       "   data_volume  qtd_appointments  \\\n",
       "0          2.3               2.0   \n",
       "2          0.0               1.0   \n",
       "\n",
       "                                            comments  churn classificacao  \\\n",
       "0  O serviço de internet tem sido instável. Estou...  False      Detrator   \n",
       "2  Tive problemas com a fatura deste mês. O valor...   True      Detrator   \n",
       "\n",
       "                 topic  \n",
       "0  internet_connection  \n",
       "2          atendimento  "
      ]
     },
     "execution_count": 1,
     "metadata": {},
     "output_type": "execute_result"
    }
   ],
   "source": [
    "import pandas as pd\n",
    "\n",
    "df = pd.read_csv(\"data/05_nlp_classificados_topicos.csv\")\n",
    "df_detratores = df[(df[\"classificacao\"]==\"Detrator\")]\n",
    "\n",
    "print(df_detratores.shape)\n",
    "df_detratores.head(2)"
   ]
  },
  {
   "cell_type": "markdown",
   "id": "3e512b5b",
   "metadata": {},
   "source": [
    "Antes de seguirmos para o topico de antedimento em si, vamos dar uma olhada nos churn em si"
   ]
  },
  {
   "cell_type": "code",
   "execution_count": 4,
   "id": "086d4cb4",
   "metadata": {},
   "outputs": [
    {
     "data": {
      "text/html": [
       "<div>\n",
       "<style scoped>\n",
       "    .dataframe tbody tr th:only-of-type {\n",
       "        vertical-align: middle;\n",
       "    }\n",
       "\n",
       "    .dataframe tbody tr th {\n",
       "        vertical-align: top;\n",
       "    }\n",
       "\n",
       "    .dataframe thead th {\n",
       "        text-align: right;\n",
       "    }\n",
       "</style>\n",
       "<table border=\"1\" class=\"dataframe\">\n",
       "  <thead>\n",
       "    <tr style=\"text-align: right;\">\n",
       "      <th></th>\n",
       "      <th>id</th>\n",
       "      <th>name</th>\n",
       "      <th>age</th>\n",
       "      <th>gender</th>\n",
       "      <th>location</th>\n",
       "      <th>marital_status</th>\n",
       "      <th>qtd_dependents</th>\n",
       "      <th>start_date</th>\n",
       "      <th>churn_date</th>\n",
       "      <th>price</th>\n",
       "      <th>service</th>\n",
       "      <th>tma</th>\n",
       "      <th>data_volume</th>\n",
       "      <th>qtd_appointments</th>\n",
       "      <th>comments</th>\n",
       "      <th>churn</th>\n",
       "      <th>classificacao</th>\n",
       "      <th>topic</th>\n",
       "    </tr>\n",
       "  </thead>\n",
       "  <tbody>\n",
       "    <tr>\n",
       "      <th>2</th>\n",
       "      <td>3</td>\n",
       "      <td>Carlos Oliveira</td>\n",
       "      <td>42</td>\n",
       "      <td>Masculino</td>\n",
       "      <td>MG</td>\n",
       "      <td>Casado</td>\n",
       "      <td>1</td>\n",
       "      <td>2020-01-20</td>\n",
       "      <td>2021-06-30</td>\n",
       "      <td>139.99</td>\n",
       "      <td>Internet</td>\n",
       "      <td>0.0</td>\n",
       "      <td>0.0</td>\n",
       "      <td>1.0</td>\n",
       "      <td>Tive problemas com a fatura deste mês. O valor...</td>\n",
       "      <td>True</td>\n",
       "      <td>Detrator</td>\n",
       "      <td>atendimento</td>\n",
       "    </tr>\n",
       "    <tr>\n",
       "      <th>4</th>\n",
       "      <td>5</td>\n",
       "      <td>Paulo Rodrigues</td>\n",
       "      <td>41</td>\n",
       "      <td>Masculino</td>\n",
       "      <td>DF</td>\n",
       "      <td>Divorciado</td>\n",
       "      <td>3</td>\n",
       "      <td>2019-11-12</td>\n",
       "      <td>2022-01-05</td>\n",
       "      <td>99.99</td>\n",
       "      <td>TV a Cabo</td>\n",
       "      <td>0.0</td>\n",
       "      <td>0.0</td>\n",
       "      <td>0.0</td>\n",
       "      <td>O canal de esportes não está funcionando corre...</td>\n",
       "      <td>True</td>\n",
       "      <td>Detrator</td>\n",
       "      <td>other</td>\n",
       "    </tr>\n",
       "    <tr>\n",
       "      <th>7</th>\n",
       "      <td>1003</td>\n",
       "      <td>Luiza Rodrigues</td>\n",
       "      <td>39</td>\n",
       "      <td>Feminino</td>\n",
       "      <td>MG</td>\n",
       "      <td>Casado</td>\n",
       "      <td>2</td>\n",
       "      <td>2018-02-20</td>\n",
       "      <td>2022-09-30</td>\n",
       "      <td>149.99</td>\n",
       "      <td>TV a Cabo</td>\n",
       "      <td>0.0</td>\n",
       "      <td>0.0</td>\n",
       "      <td>0.0</td>\n",
       "      <td>Os canais HD têm apresentado problemas de qual...</td>\n",
       "      <td>True</td>\n",
       "      <td>Detrator</td>\n",
       "      <td>other</td>\n",
       "    </tr>\n",
       "    <tr>\n",
       "      <th>17</th>\n",
       "      <td>1013</td>\n",
       "      <td>Patrícia Costa</td>\n",
       "      <td>40</td>\n",
       "      <td>Feminino</td>\n",
       "      <td>MG</td>\n",
       "      <td>Divorciado</td>\n",
       "      <td>1</td>\n",
       "      <td>2019-03-20</td>\n",
       "      <td>2023-09-30</td>\n",
       "      <td>139.99</td>\n",
       "      <td>TV a Cabo</td>\n",
       "      <td>0.0</td>\n",
       "      <td>0.0</td>\n",
       "      <td>0.0</td>\n",
       "      <td>A qualidade de imagem da TV a cabo é excelente...</td>\n",
       "      <td>True</td>\n",
       "      <td>Promotor</td>\n",
       "      <td>quality_tv_channels</td>\n",
       "    </tr>\n",
       "  </tbody>\n",
       "</table>\n",
       "</div>"
      ],
      "text/plain": [
       "      id             name  age     gender location marital_status  \\\n",
       "2      3  Carlos Oliveira   42  Masculino       MG         Casado   \n",
       "4      5  Paulo Rodrigues   41  Masculino       DF     Divorciado   \n",
       "7   1003  Luiza Rodrigues   39   Feminino       MG         Casado   \n",
       "17  1013   Patrícia Costa   40   Feminino       MG     Divorciado   \n",
       "\n",
       "    qtd_dependents  start_date  churn_date   price    service  tma  \\\n",
       "2                1  2020-01-20  2021-06-30  139.99   Internet  0.0   \n",
       "4                3  2019-11-12  2022-01-05   99.99  TV a Cabo  0.0   \n",
       "7                2  2018-02-20  2022-09-30  149.99  TV a Cabo  0.0   \n",
       "17               1  2019-03-20  2023-09-30  139.99  TV a Cabo  0.0   \n",
       "\n",
       "    data_volume  qtd_appointments  \\\n",
       "2           0.0               1.0   \n",
       "4           0.0               0.0   \n",
       "7           0.0               0.0   \n",
       "17          0.0               0.0   \n",
       "\n",
       "                                             comments  churn classificacao  \\\n",
       "2   Tive problemas com a fatura deste mês. O valor...   True      Detrator   \n",
       "4   O canal de esportes não está funcionando corre...   True      Detrator   \n",
       "7   Os canais HD têm apresentado problemas de qual...   True      Detrator   \n",
       "17  A qualidade de imagem da TV a cabo é excelente...   True      Promotor   \n",
       "\n",
       "                  topic  \n",
       "2           atendimento  \n",
       "4                 other  \n",
       "7                 other  \n",
       "17  quality_tv_channels  "
      ]
     },
     "execution_count": 4,
     "metadata": {},
     "output_type": "execute_result"
    }
   ],
   "source": [
    "df[df['churn']]"
   ]
  },
  {
   "cell_type": "code",
   "execution_count": 2,
   "id": "ddd5040c",
   "metadata": {},
   "outputs": [
    {
     "name": "stdout",
     "output_type": "stream",
     "text": [
      "Tive problemas com a fatura deste mês. O valor cobrado está incorreto e não consigo entrar em contato com o atendimento ao cliente. Já enviei diversos emails e tentei ligar várias vezes, mas não obtive resposta. \n",
      "\n",
      "O canal de esportes não está funcionando corretamente. A imagem fica pixelada e o áudio está com falhas. Já entrei em contato com o suporte técnico algumas vezes, mas o problema persiste. \n",
      "\n",
      "Os canais HD têm apresentado problemas de qualidade. A imagem está pixelada e o som não está sincronizado com a imagem. \n",
      "\n",
      "A qualidade de imagem da TV a cabo é excelente. Todos os canais funcionam perfeitamente. \n",
      "\n"
     ]
    }
   ],
   "source": [
    "for comment in df[df['churn']][\"comments\"].unique():\n",
    "    print(comment,'\\n')"
   ]
  },
  {
   "cell_type": "markdown",
   "id": "0e88d21d",
   "metadata": {},
   "source": [
    "Temos aqui 50% de comentarios relacionados (ou envolvendo atendimento)\\\n",
    "75% Relacionado com o serviço de TV a Cabo, todos de planos diferentes\\\n",
    "75% de MG\n",
    "\n",
    "E 25% aponta para churn natural, já que era um cliente era Promotor"
   ]
  },
  {
   "cell_type": "code",
   "execution_count": 5,
   "id": "53a6f2fb",
   "metadata": {},
   "outputs": [
    {
     "name": "stdout",
     "output_type": "stream",
     "text": [
      "Tive problemas com a fatura deste mês. O valor cobrado está incorreto e não consigo entrar em contato com o atendimento ao cliente. Já enviei diversos emails e tentei ligar várias vezes, mas não obtive resposta. \n",
      "\n",
      "Estou profundamente insatisfeita com o serviço de telefonia fixa. As ligações são constantemente interrompidas, e a qualidade do som é péssima. Além disso, o atendimento ao cliente é ineficiente e não resolve meus problemas. Não recomendo essa empresa de forma alguma. \n",
      "\n",
      "O serviço de telefonia fixa dessa empresa é um verdadeiro desastre. As ligações são constantemente cortadas, o som é horrível e o atendimento ao cliente é simplesmente inútil. É uma experiência frustrante e não vale o dinheiro investido. \n",
      "\n",
      "Estou completamente desapontada com o serviço de TV a cabo dessa empresa. A qualidade dos canais é péssima, a imagem é frequentemente distorcida e o atendimento ao cliente é simplesmente inexistente. Não recomendo a ninguém. \n",
      "\n",
      "Estou profundamente decepcionada com o serviço de TV a cabo dessa empresa. A qualidade dos canais é péssima, o sinal some constantemente e o atendimento ao cliente é inexistente. É um completo desperdício de dinheiro. Não recomendo de forma alguma. \n",
      "\n",
      "Estou completamente insatisfeita com o serviço de TV a cabo dessa empresa. A maioria dos canais apresenta uma qualidade terrível, o sinal some constantemente e o atendimento ao cliente é péssimo. Não recomendo de forma alguma. \n",
      "\n",
      "Estou extremamente desapontada com o serviço de TV a cabo dessa empresa. A qualidade dos canais é horrível, o sinal some constantemente e o atendimento ao cliente é inexistente. É uma completa perda de dinheiro e tempo. \n",
      "\n",
      "Estou extremamente frustrada com o serviço de TV a cabo dessa empresa. A maioria dos canais não funciona, o sinal some constantemente e o atendimento ao cliente é péssimo. É um completo desperdício de dinheiro. Não recomendo de forma alguma. \n",
      "\n",
      "O serviço de TV a cabo dessa empresa é uma piada. A maioria dos canais não funciona, o sinal some constantemente e o atendimento ao cliente é péssimo. É uma completa perda de dinheiro. Não recomendo de forma alguma. \n",
      "\n",
      "O serviço de TV a cabo dessa empresa é uma decepção total. A qualidade dos canais é péssima, o sinal some constantemente e o atendimento ao cliente é inexistente. É uma completa perda de dinheiro e tempo. \n",
      "\n"
     ]
    }
   ],
   "source": [
    "df_detrator_atendimento = df_detratores[df_detratores[\"topic\"]==\"atendimento\"]\n",
    "for comment in df_detrator_atendimento[\"comments\"].unique():\n",
    "    print(comment,'\\n')"
   ]
  },
  {
   "cell_type": "markdown",
   "id": "fe7ab173",
   "metadata": {},
   "source": [
    "Fica claro aqui que na maioria dos casos o atendimento não é o problema central e sim um agravante de outro problema que o cliente vem enfrentando.\\\n",
    "Além disso não é exposto uma caracteristica expecifica em que o atendimento frustra os clientes, ao inves disso é apontado temas genericos\n",
    "\n",
    "Vamos explorar o relacionamento do TMA e qtd_appointments com o posicionamento de Promotor/Detrator"
   ]
  },
  {
   "cell_type": "code",
   "execution_count": 14,
   "id": "b4cee1c2",
   "metadata": {},
   "outputs": [
    {
     "data": {
      "text/html": [
       "<div>\n",
       "<style scoped>\n",
       "    .dataframe tbody tr th:only-of-type {\n",
       "        vertical-align: middle;\n",
       "    }\n",
       "\n",
       "    .dataframe tbody tr th {\n",
       "        vertical-align: top;\n",
       "    }\n",
       "\n",
       "    .dataframe thead th {\n",
       "        text-align: right;\n",
       "    }\n",
       "</style>\n",
       "<table border=\"1\" class=\"dataframe\">\n",
       "  <thead>\n",
       "    <tr style=\"text-align: right;\">\n",
       "      <th></th>\n",
       "      <th>tma</th>\n",
       "      <th>qtd_appointments</th>\n",
       "      <th>price</th>\n",
       "    </tr>\n",
       "    <tr>\n",
       "      <th>classificacao</th>\n",
       "      <th></th>\n",
       "      <th></th>\n",
       "      <th></th>\n",
       "    </tr>\n",
       "  </thead>\n",
       "  <tbody>\n",
       "    <tr>\n",
       "      <th>Detrator</th>\n",
       "      <td>84.0</td>\n",
       "      <td>1.0</td>\n",
       "      <td>99.99</td>\n",
       "    </tr>\n",
       "    <tr>\n",
       "      <th>Neutro</th>\n",
       "      <td>258.0</td>\n",
       "      <td>1.0</td>\n",
       "      <td>149.99</td>\n",
       "    </tr>\n",
       "    <tr>\n",
       "      <th>Promotor</th>\n",
       "      <td>0.0</td>\n",
       "      <td>0.0</td>\n",
       "      <td>119.99</td>\n",
       "    </tr>\n",
       "  </tbody>\n",
       "</table>\n",
       "</div>"
      ],
      "text/plain": [
       "                 tma  qtd_appointments   price\n",
       "classificacao                                 \n",
       "Detrator        84.0               1.0   99.99\n",
       "Neutro         258.0               1.0  149.99\n",
       "Promotor         0.0               0.0  119.99"
      ]
     },
     "execution_count": 14,
     "metadata": {},
     "output_type": "execute_result"
    }
   ],
   "source": [
    "df[['tma','qtd_appointments','price','classificacao']].groupby('classificacao').median()"
   ]
  },
  {
   "cell_type": "code",
   "execution_count": 9,
   "id": "06c9d9f3",
   "metadata": {},
   "outputs": [
    {
     "data": {
      "image/png": "[encoded data removed]",
      "text/plain": [
       "<Figure size 1000x600 with 1 Axes>"
      ]
     },
     "metadata": {},
     "output_type": "display_data"
    }
   ],
   "source": [
    "import matplotlib.pyplot as plt\n",
    "import numpy as np\n",
    "\n",
    "# Filtrar dados\n",
    "promotores = df[df['classificacao'] == 'Promotor']['tma']\n",
    "detratores = df[df['classificacao'] == 'Detrator']['tma']\n",
    "\n",
    "# Criar histograma sobreposto\n",
    "plt.figure(figsize=(10, 6))\n",
    "plt.hist(promotores, bins=20, alpha=0.7, color='green', label='Promotor', density=True)\n",
    "plt.hist(detratores, bins=20, alpha=0.7, color='red', label='Detrator', density=True)\n",
    "\n",
    "plt.xlabel('Tempo Médio de Atendimento (segundos)')\n",
    "plt.ylabel('Densidade')\n",
    "plt.title('Distribuição do TMA: Promotores vs Detratores')\n",
    "plt.legend()\n",
    "plt.grid(True, alpha=0.3)\n",
    "plt.show()"
   ]
  },
  {
   "cell_type": "code",
   "execution_count": 13,
   "id": "eca58ac6",
   "metadata": {},
   "outputs": [
    {
     "data": {
      "image/png": "[encoded data removed]",
      "text/plain": [
       "<Figure size 600x400 with 1 Axes>"
      ]
     },
     "metadata": {},
     "output_type": "display_data"
    }
   ],
   "source": [
    "import matplotlib.pyplot as plt\n",
    "import numpy as np\n",
    "\n",
    "# Filtrar dados\n",
    "promotores = df[df['classificacao'] == 'Promotor']['qtd_appointments']\n",
    "detratores = df[df['classificacao'] == 'Detrator']['qtd_appointments']\n",
    "\n",
    "# Criar histograma sobreposto\n",
    "plt.figure(figsize=(6, 4))\n",
    "plt.hist(promotores, bins=3, alpha=0.7, color='green', label='Promotor', density=True)\n",
    "plt.hist(detratores, bins=3, alpha=0.7, color='red', label='Detrator', density=True)\n",
    "\n",
    "plt.xlabel('Quantidade de Atendimentos')\n",
    "plt.ylabel('Densidade')\n",
    "plt.title('Distribuição de Atendimentos: Promotores vs Detratores')\n",
    "plt.legend()\n",
    "plt.grid(True, alpha=0.3)\n",
    "plt.show()"
   ]
  },
  {
   "cell_type": "markdown",
   "id": "7ca7f720",
   "metadata": {},
   "source": [
    "Alguns insights interessantes aqui:\n",
    "\n",
    "Os promotores costumam ter atendimentos mais longos mesmo que mais raros. O que é um bom apontamento pra defender que é melhor ter um atendimento demorado, do que não resolutivo.\n",
    "\n",
    "Outra coisa que salta aos olhos também é que os Detratores tem comumente fazem uma reclamação, mas tem uma redução drastica para para a segunda, o que pode apontar já um cliente que perdeu o interesse de fazer contatos ativos para resolver a situação com a empresa e pode em breve se tornar churn, o que reforça a importancia de contatos muito resolutivos e talvez aponte positivivamente para campanhas ativas para clientes que fizeram reclamação, em especial os que não tiveram o problema resolvido"
   ]
  },
  {
   "cell_type": "code",
   "execution_count": null,
   "id": "3055c3f2",
   "metadata": {},
   "outputs": [],
   "source": []
  }
 ],
 "metadata": {
  "kernelspec": {
   "display_name": ".venv",
   "language": "python",
   "name": "python3"
  },
  "language_info": {
   "codemirror_mode": {
    "name": "ipython",
    "version": 3
   },
   "file_extension": ".py",
   "mimetype": "text/x-python",
   "name": "python",
   "nbconvert_exporter": "python",
   "pygments_lexer": "ipython3",
   "version": "3.12.3"
  }
 },
 "nbformat": 4,
 "nbformat_minor": 5
}
