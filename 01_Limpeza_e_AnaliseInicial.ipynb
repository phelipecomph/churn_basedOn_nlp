{
 "cells": [
  {
   "cell_type": "markdown",
   "id": "029cf9ae",
   "metadata": {},
   "source": [
    "Ao fazer uma breve analise no csv, notei que algumas linhas tem algumas divergencias:\n",
    "1. Comentarios faltando fechar aspas.\n",
    "2. E as ultimas linhas apresentam colunas divergentes (Extremamente Negativo)\n",
    "\n",
    "E essas caractaristicas foram tratas no util.cleaning,\\\n",
    "fechando o comentario e trocando o texto por ','\\\n",
    "tornando as colunas corretas por mais que com NaN"
   ]
  },
  {
   "cell_type": "code",
   "execution_count": 1,
   "id": "d5b20bb0",
   "metadata": {},
   "outputs": [
    {
     "name": "stdout",
     "output_type": "stream",
     "text": [
      "📋 Cabeçalho original:\n",
      "ID,Nome,Idade,Gênero,Localização,Estado Civil,Número de Dependentes,Data de Início do Contrato,Data de Término do Contrato,Valor Mensal do Contrato,Tipo de Serviço,Duração Média das Chamadas,Volume de Dados,Número de Reclamações,Comentários\n",
      "Colunas esperadas: 15\n",
      "\n",
      "✅ Linhas corrigidas: 33\n"
     ]
    }
   ],
   "source": [
    "from utils.cleaning import fix_data_structure\n",
    "from pathlib import Path\n",
    "\n",
    "file_path = Path('data/01_original_data.csv')\n",
    "fixed_file_path = fix_data_structure(file_path)"
   ]
  },
  {
   "cell_type": "code",
   "execution_count": 2,
   "id": "40a77500",
   "metadata": {},
   "outputs": [
    {
     "data": {
      "text/html": [
       "<div>\n",
       "<style scoped>\n",
       "    .dataframe tbody tr th:only-of-type {\n",
       "        vertical-align: middle;\n",
       "    }\n",
       "\n",
       "    .dataframe tbody tr th {\n",
       "        vertical-align: top;\n",
       "    }\n",
       "\n",
       "    .dataframe thead th {\n",
       "        text-align: right;\n",
       "    }\n",
       "</style>\n",
       "<table border=\"1\" class=\"dataframe\">\n",
       "  <thead>\n",
       "    <tr style=\"text-align: right;\">\n",
       "      <th></th>\n",
       "      <th>id</th>\n",
       "      <th>name</th>\n",
       "      <th>age</th>\n",
       "      <th>gender</th>\n",
       "      <th>location</th>\n",
       "      <th>marital_status</th>\n",
       "      <th>qtd_dependents</th>\n",
       "      <th>start_date</th>\n",
       "      <th>churn_date</th>\n",
       "      <th>price</th>\n",
       "      <th>service</th>\n",
       "      <th>tma</th>\n",
       "      <th>data_volume</th>\n",
       "      <th>qtd_appointments</th>\n",
       "      <th>comments</th>\n",
       "    </tr>\n",
       "  </thead>\n",
       "  <tbody>\n",
       "    <tr>\n",
       "      <th>100</th>\n",
       "      <td>1101</td>\n",
       "      <td>Rodrigo Santos</td>\n",
       "      <td>33</td>\n",
       "      <td>Masculino</td>\n",
       "      <td>Belo Horizonte/MG/Minas Gerais</td>\n",
       "      <td>Solteiro</td>\n",
       "      <td>0</td>\n",
       "      <td>2022-09-01</td>\n",
       "      <td>NaN</td>\n",
       "      <td>99.99</td>\n",
       "      <td>Telefonia Fixa</td>\n",
       "      <td>2.2</td>\n",
       "      <td>NaN</td>\n",
       "      <td>NaN</td>\n",
       "      <td>A telefonia fixa dessa empresa é uma vergonha....</td>\n",
       "    </tr>\n",
       "    <tr>\n",
       "      <th>101</th>\n",
       "      <td>1102</td>\n",
       "      <td>Carolina Fernandes</td>\n",
       "      <td>29</td>\n",
       "      <td>Feminino</td>\n",
       "      <td>Porto Alegre/RS/Rio Grande do Sul</td>\n",
       "      <td>Solteiro</td>\n",
       "      <td>0</td>\n",
       "      <td>2023-01-15</td>\n",
       "      <td>NaN</td>\n",
       "      <td>89.99</td>\n",
       "      <td>Telefonia Móvel</td>\n",
       "      <td>1.3</td>\n",
       "      <td>NaN</td>\n",
       "      <td>NaN</td>\n",
       "      <td>A telefonia móvel dessa empresa é um completo ...</td>\n",
       "    </tr>\n",
       "  </tbody>\n",
       "</table>\n",
       "</div>"
      ],
      "text/plain": [
       "       id                name  age     gender  \\\n",
       "100  1101      Rodrigo Santos   33  Masculino   \n",
       "101  1102  Carolina Fernandes   29   Feminino   \n",
       "\n",
       "                              location marital_status  qtd_dependents  \\\n",
       "100     Belo Horizonte/MG/Minas Gerais       Solteiro               0   \n",
       "101  Porto Alegre/RS/Rio Grande do Sul       Solteiro               0   \n",
       "\n",
       "     start_date churn_date  price          service  tma data_volume  \\\n",
       "100  2022-09-01        NaN  99.99   Telefonia Fixa  2.2         NaN   \n",
       "101  2023-01-15        NaN  89.99  Telefonia Móvel  1.3         NaN   \n",
       "\n",
       "    qtd_appointments                                           comments  \n",
       "100              NaN  A telefonia fixa dessa empresa é uma vergonha....  \n",
       "101              NaN  A telefonia móvel dessa empresa é um completo ...  "
      ]
     },
     "execution_count": 2,
     "metadata": {},
     "output_type": "execute_result"
    }
   ],
   "source": [
    "import pandas as pd\n",
    "\n",
    "df = pd.read_csv('data/02_churn_fixed.csv')\n",
    "\n",
    "df.columns = [\n",
    "    'id',\n",
    "    'name',\n",
    "    'age',\n",
    "    'gender',\n",
    "    'location',\n",
    "    'marital_status',\n",
    "    'qtd_dependents',\n",
    "    'start_date',\n",
    "    'churn_date',\n",
    "    'price',\n",
    "    'service',\n",
    "    'tma',\n",
    "    'data_volume',\n",
    "    'qtd_appointments',\n",
    "    'comments'\n",
    "]\n",
    "\n",
    "df.tail(2) # tail pra validar que as ultimas linhas estao corretas"
   ]
  },
  {
   "cell_type": "code",
   "execution_count": 3,
   "id": "78e66c1d",
   "metadata": {},
   "outputs": [
    {
     "data": {
      "text/plain": [
       "location\n",
       "São Paulo/SP/São Paulo                 29\n",
       "Belo Horizonte/MG/Minas Gerais         25\n",
       "Rio de Janeiro/RJ/Rio de Janeiro       22\n",
       "Porto Alegre/RS/Rio Grande do Sul      22\n",
       "Brasília/DF                             3\n",
       "Rio de Janeiro/RJ/Rio Grande do Sul     1\n",
       "Name: count, dtype: int64"
      ]
     },
     "execution_count": 3,
     "metadata": {},
     "output_type": "execute_result"
    }
   ],
   "source": [
    "df['location'].value_counts()"
   ]
  },
  {
   "cell_type": "markdown",
   "id": "21c38241",
   "metadata": {},
   "source": [
    "Aqui vemos que temos sempre a capital de cada estado, então vou simplificar a notação apenas com no UF.\n",
    "\n",
    "Obs.: Os dados apresentam uma incongruencia em: Rio de Janeiro/RJ/Rio Grande do Sul\\\n",
    "que deveria ser (provavelmente): Rio de Janeiro/RJ/Rio de Janeiro.\\\n",
    "Isso se resolve com a simplificação proposta"
   ]
  },
  {
   "cell_type": "code",
   "execution_count": 4,
   "id": "e81bbafa",
   "metadata": {},
   "outputs": [],
   "source": [
    "df['location'] = [splits[1] for splits in df['location'].str.split('/')]"
   ]
  },
  {
   "cell_type": "code",
   "execution_count": 5,
   "id": "a22b6d0c",
   "metadata": {},
   "outputs": [
    {
     "data": {
      "text/html": [
       "<div>\n",
       "<style scoped>\n",
       "    .dataframe tbody tr th:only-of-type {\n",
       "        vertical-align: middle;\n",
       "    }\n",
       "\n",
       "    .dataframe tbody tr th {\n",
       "        vertical-align: top;\n",
       "    }\n",
       "\n",
       "    .dataframe thead th {\n",
       "        text-align: right;\n",
       "    }\n",
       "</style>\n",
       "<table border=\"1\" class=\"dataframe\">\n",
       "  <thead>\n",
       "    <tr style=\"text-align: right;\">\n",
       "      <th></th>\n",
       "      <th>id</th>\n",
       "      <th>name</th>\n",
       "      <th>age</th>\n",
       "      <th>gender</th>\n",
       "      <th>location</th>\n",
       "      <th>marital_status</th>\n",
       "      <th>qtd_dependents</th>\n",
       "      <th>start_date</th>\n",
       "      <th>churn_date</th>\n",
       "      <th>price</th>\n",
       "      <th>service</th>\n",
       "      <th>tma</th>\n",
       "      <th>data_volume</th>\n",
       "      <th>qtd_appointments</th>\n",
       "      <th>comments</th>\n",
       "    </tr>\n",
       "  </thead>\n",
       "  <tbody>\n",
       "    <tr>\n",
       "      <th>100</th>\n",
       "      <td>1101</td>\n",
       "      <td>Rodrigo Santos</td>\n",
       "      <td>33</td>\n",
       "      <td>Masculino</td>\n",
       "      <td>MG</td>\n",
       "      <td>Solteiro</td>\n",
       "      <td>0</td>\n",
       "      <td>2022-09-01</td>\n",
       "      <td>NaN</td>\n",
       "      <td>99.99</td>\n",
       "      <td>Telefonia Fixa</td>\n",
       "      <td>2.2</td>\n",
       "      <td>NaN</td>\n",
       "      <td>NaN</td>\n",
       "      <td>A telefonia fixa dessa empresa é uma vergonha....</td>\n",
       "    </tr>\n",
       "    <tr>\n",
       "      <th>101</th>\n",
       "      <td>1102</td>\n",
       "      <td>Carolina Fernandes</td>\n",
       "      <td>29</td>\n",
       "      <td>Feminino</td>\n",
       "      <td>RS</td>\n",
       "      <td>Solteiro</td>\n",
       "      <td>0</td>\n",
       "      <td>2023-01-15</td>\n",
       "      <td>NaN</td>\n",
       "      <td>89.99</td>\n",
       "      <td>Telefonia Móvel</td>\n",
       "      <td>1.3</td>\n",
       "      <td>NaN</td>\n",
       "      <td>NaN</td>\n",
       "      <td>A telefonia móvel dessa empresa é um completo ...</td>\n",
       "    </tr>\n",
       "  </tbody>\n",
       "</table>\n",
       "</div>"
      ],
      "text/plain": [
       "       id                name  age     gender location marital_status  \\\n",
       "100  1101      Rodrigo Santos   33  Masculino       MG       Solteiro   \n",
       "101  1102  Carolina Fernandes   29   Feminino       RS       Solteiro   \n",
       "\n",
       "     qtd_dependents  start_date churn_date  price          service  tma  \\\n",
       "100               0  2022-09-01        NaN  99.99   Telefonia Fixa  2.2   \n",
       "101               0  2023-01-15        NaN  89.99  Telefonia Móvel  1.3   \n",
       "\n",
       "    data_volume qtd_appointments  \\\n",
       "100         NaN              NaN   \n",
       "101         NaN              NaN   \n",
       "\n",
       "                                              comments  \n",
       "100  A telefonia fixa dessa empresa é uma vergonha....  \n",
       "101  A telefonia móvel dessa empresa é um completo ...  "
      ]
     },
     "execution_count": 5,
     "metadata": {},
     "output_type": "execute_result"
    }
   ],
   "source": [
    "df.tail(2)"
   ]
  },
  {
   "cell_type": "markdown",
   "id": "c50a22cb",
   "metadata": {},
   "source": [
    "Visto que temos bastante incongruencia nos dados, vamos aprofundar nas demais colunas"
   ]
  },
  {
   "cell_type": "markdown",
   "id": "54030200",
   "metadata": {},
   "source": [
    "#### id"
   ]
  },
  {
   "cell_type": "code",
   "execution_count": 6,
   "id": "8e660691",
   "metadata": {},
   "outputs": [
    {
     "data": {
      "text/plain": [
       "id\n",
       "1068    2\n",
       "2       1\n",
       "3       1\n",
       "4       1\n",
       "1       1\n",
       "       ..\n",
       "1098    1\n",
       "1099    1\n",
       "1100    1\n",
       "1101    1\n",
       "1102    1\n",
       "Name: count, Length: 101, dtype: int64"
      ]
     },
     "execution_count": 6,
     "metadata": {},
     "output_type": "execute_result"
    }
   ],
   "source": [
    "df['id'].value_counts()"
   ]
  },
  {
   "cell_type": "code",
   "execution_count": 7,
   "id": "4f6df135",
   "metadata": {},
   "outputs": [
    {
     "data": {
      "text/html": [
       "<div>\n",
       "<style scoped>\n",
       "    .dataframe tbody tr th:only-of-type {\n",
       "        vertical-align: middle;\n",
       "    }\n",
       "\n",
       "    .dataframe tbody tr th {\n",
       "        vertical-align: top;\n",
       "    }\n",
       "\n",
       "    .dataframe thead th {\n",
       "        text-align: right;\n",
       "    }\n",
       "</style>\n",
       "<table border=\"1\" class=\"dataframe\">\n",
       "  <thead>\n",
       "    <tr style=\"text-align: right;\">\n",
       "      <th></th>\n",
       "      <th>id</th>\n",
       "      <th>name</th>\n",
       "      <th>age</th>\n",
       "      <th>gender</th>\n",
       "      <th>location</th>\n",
       "      <th>marital_status</th>\n",
       "      <th>qtd_dependents</th>\n",
       "      <th>start_date</th>\n",
       "      <th>churn_date</th>\n",
       "      <th>price</th>\n",
       "      <th>service</th>\n",
       "      <th>tma</th>\n",
       "      <th>data_volume</th>\n",
       "      <th>qtd_appointments</th>\n",
       "      <th>comments</th>\n",
       "    </tr>\n",
       "  </thead>\n",
       "  <tbody>\n",
       "    <tr>\n",
       "      <th>69</th>\n",
       "      <td>1068</td>\n",
       "      <td>Gabriela Almeida</td>\n",
       "      <td>32</td>\n",
       "      <td>Feminino</td>\n",
       "      <td>RJ</td>\n",
       "      <td>Casado</td>\n",
       "      <td>1</td>\n",
       "      <td>2021-03-20</td>\n",
       "      <td>NaN</td>\n",
       "      <td>129.99</td>\n",
       "      <td>Telefonia Fixa</td>\n",
       "      <td>4.2</td>\n",
       "      <td>NaN</td>\n",
       "      <td>NaN</td>\n",
       "      <td>Estou profundamente insatisfeita com o serviço...</td>\n",
       "    </tr>\n",
       "    <tr>\n",
       "      <th>70</th>\n",
       "      <td>1068</td>\n",
       "      <td>Julio Santos</td>\n",
       "      <td>28</td>\n",
       "      <td>Masculino</td>\n",
       "      <td>SP</td>\n",
       "      <td>Solteiro</td>\n",
       "      <td>0</td>\n",
       "      <td>2022-09-01</td>\n",
       "      <td>NaN</td>\n",
       "      <td>99.99</td>\n",
       "      <td>Internet</td>\n",
       "      <td>3.9</td>\n",
       "      <td>NaN</td>\n",
       "      <td>NaN</td>\n",
       "      <td>A internet fornecida é simplesmente terrível. ...</td>\n",
       "    </tr>\n",
       "  </tbody>\n",
       "</table>\n",
       "</div>"
      ],
      "text/plain": [
       "      id              name  age     gender location marital_status  \\\n",
       "69  1068  Gabriela Almeida   32   Feminino       RJ         Casado   \n",
       "70  1068      Julio Santos   28  Masculino       SP       Solteiro   \n",
       "\n",
       "    qtd_dependents  start_date churn_date   price         service  tma  \\\n",
       "69               1  2021-03-20        NaN  129.99  Telefonia Fixa  4.2   \n",
       "70               0  2022-09-01        NaN   99.99        Internet  3.9   \n",
       "\n",
       "   data_volume qtd_appointments  \\\n",
       "69         NaN              NaN   \n",
       "70         NaN              NaN   \n",
       "\n",
       "                                             comments  \n",
       "69  Estou profundamente insatisfeita com o serviço...  \n",
       "70  A internet fornecida é simplesmente terrível. ...  "
      ]
     },
     "execution_count": 7,
     "metadata": {},
     "output_type": "execute_result"
    }
   ],
   "source": [
    "df[df['id']==1068]"
   ]
  },
  {
   "cell_type": "markdown",
   "id": "de7a2bac",
   "metadata": {},
   "source": [
    "Parece que dois clientes estão dividindo o mesmo id, vamos verificar se esses clientes já existem baseado nos nomes"
   ]
  },
  {
   "cell_type": "code",
   "execution_count": 8,
   "id": "ae0a5573",
   "metadata": {},
   "outputs": [
    {
     "data": {
      "text/html": [
       "<div>\n",
       "<style scoped>\n",
       "    .dataframe tbody tr th:only-of-type {\n",
       "        vertical-align: middle;\n",
       "    }\n",
       "\n",
       "    .dataframe tbody tr th {\n",
       "        vertical-align: top;\n",
       "    }\n",
       "\n",
       "    .dataframe thead th {\n",
       "        text-align: right;\n",
       "    }\n",
       "</style>\n",
       "<table border=\"1\" class=\"dataframe\">\n",
       "  <thead>\n",
       "    <tr style=\"text-align: right;\">\n",
       "      <th></th>\n",
       "      <th>id</th>\n",
       "      <th>name</th>\n",
       "      <th>age</th>\n",
       "      <th>gender</th>\n",
       "      <th>location</th>\n",
       "      <th>marital_status</th>\n",
       "      <th>qtd_dependents</th>\n",
       "      <th>start_date</th>\n",
       "      <th>churn_date</th>\n",
       "      <th>price</th>\n",
       "      <th>service</th>\n",
       "      <th>tma</th>\n",
       "      <th>data_volume</th>\n",
       "      <th>qtd_appointments</th>\n",
       "      <th>comments</th>\n",
       "    </tr>\n",
       "  </thead>\n",
       "  <tbody>\n",
       "    <tr>\n",
       "      <th>70</th>\n",
       "      <td>1068</td>\n",
       "      <td>Julio Santos</td>\n",
       "      <td>28</td>\n",
       "      <td>Masculino</td>\n",
       "      <td>SP</td>\n",
       "      <td>Solteiro</td>\n",
       "      <td>0</td>\n",
       "      <td>2022-09-01</td>\n",
       "      <td>NaN</td>\n",
       "      <td>99.99</td>\n",
       "      <td>Internet</td>\n",
       "      <td>3.9</td>\n",
       "      <td>NaN</td>\n",
       "      <td>NaN</td>\n",
       "      <td>A internet fornecida é simplesmente terrível. ...</td>\n",
       "    </tr>\n",
       "  </tbody>\n",
       "</table>\n",
       "</div>"
      ],
      "text/plain": [
       "      id          name  age     gender location marital_status  \\\n",
       "70  1068  Julio Santos   28  Masculino       SP       Solteiro   \n",
       "\n",
       "    qtd_dependents  start_date churn_date  price   service  tma data_volume  \\\n",
       "70               0  2022-09-01        NaN  99.99  Internet  3.9         NaN   \n",
       "\n",
       "   qtd_appointments                                           comments  \n",
       "70              NaN  A internet fornecida é simplesmente terrível. ...  "
      ]
     },
     "execution_count": 8,
     "metadata": {},
     "output_type": "execute_result"
    }
   ],
   "source": [
    "df[df['name']=='Julio Santos']"
   ]
  },
  {
   "cell_type": "code",
   "execution_count": 9,
   "id": "e8f0df97",
   "metadata": {},
   "outputs": [
    {
     "data": {
      "text/html": [
       "<div>\n",
       "<style scoped>\n",
       "    .dataframe tbody tr th:only-of-type {\n",
       "        vertical-align: middle;\n",
       "    }\n",
       "\n",
       "    .dataframe tbody tr th {\n",
       "        vertical-align: top;\n",
       "    }\n",
       "\n",
       "    .dataframe thead th {\n",
       "        text-align: right;\n",
       "    }\n",
       "</style>\n",
       "<table border=\"1\" class=\"dataframe\">\n",
       "  <thead>\n",
       "    <tr style=\"text-align: right;\">\n",
       "      <th></th>\n",
       "      <th>id</th>\n",
       "      <th>name</th>\n",
       "      <th>age</th>\n",
       "      <th>gender</th>\n",
       "      <th>location</th>\n",
       "      <th>marital_status</th>\n",
       "      <th>qtd_dependents</th>\n",
       "      <th>start_date</th>\n",
       "      <th>churn_date</th>\n",
       "      <th>price</th>\n",
       "      <th>service</th>\n",
       "      <th>tma</th>\n",
       "      <th>data_volume</th>\n",
       "      <th>qtd_appointments</th>\n",
       "      <th>comments</th>\n",
       "    </tr>\n",
       "  </thead>\n",
       "  <tbody>\n",
       "    <tr>\n",
       "      <th>69</th>\n",
       "      <td>1068</td>\n",
       "      <td>Gabriela Almeida</td>\n",
       "      <td>32</td>\n",
       "      <td>Feminino</td>\n",
       "      <td>RJ</td>\n",
       "      <td>Casado</td>\n",
       "      <td>1</td>\n",
       "      <td>2021-03-20</td>\n",
       "      <td>NaN</td>\n",
       "      <td>129.99</td>\n",
       "      <td>Telefonia Fixa</td>\n",
       "      <td>4.2</td>\n",
       "      <td>NaN</td>\n",
       "      <td>NaN</td>\n",
       "      <td>Estou profundamente insatisfeita com o serviço...</td>\n",
       "    </tr>\n",
       "  </tbody>\n",
       "</table>\n",
       "</div>"
      ],
      "text/plain": [
       "      id              name  age    gender location marital_status  \\\n",
       "69  1068  Gabriela Almeida   32  Feminino       RJ         Casado   \n",
       "\n",
       "    qtd_dependents  start_date churn_date   price         service  tma  \\\n",
       "69               1  2021-03-20        NaN  129.99  Telefonia Fixa  4.2   \n",
       "\n",
       "   data_volume qtd_appointments  \\\n",
       "69         NaN              NaN   \n",
       "\n",
       "                                             comments  \n",
       "69  Estou profundamente insatisfeita com o serviço...  "
      ]
     },
     "execution_count": 9,
     "metadata": {},
     "output_type": "execute_result"
    }
   ],
   "source": [
    "df[df['name']=='Gabriela Almeida']"
   ]
  },
  {
   "cell_type": "markdown",
   "id": "8f041b5c",
   "metadata": {},
   "source": []
  },
  {
   "cell_type": "markdown",
   "id": "a29d6d3d",
   "metadata": {},
   "source": [
    "Parece que não é o caso, vamos esolher um dos dois e adicionar um novo id"
   ]
  },
  {
   "cell_type": "code",
   "execution_count": 10,
   "id": "aa664d2a",
   "metadata": {},
   "outputs": [
    {
     "data": {
      "text/plain": [
       "count     102.000000\n",
       "mean      999.392157\n",
       "std       229.206559\n",
       "min         1.000000\n",
       "25%      1021.250000\n",
       "50%      1047.000000\n",
       "75%      1074.750000\n",
       "max      1102.000000\n",
       "Name: id, dtype: float64"
      ]
     },
     "execution_count": 10,
     "metadata": {},
     "output_type": "execute_result"
    }
   ],
   "source": [
    "df['id'].describe()"
   ]
  },
  {
   "cell_type": "code",
   "execution_count": 11,
   "id": "d035a00c",
   "metadata": {},
   "outputs": [],
   "source": [
    "df.loc[70, 'id'] = 1103"
   ]
  },
  {
   "cell_type": "markdown",
   "id": "934c075b",
   "metadata": {},
   "source": [
    "Validar se deu certo"
   ]
  },
  {
   "cell_type": "code",
   "execution_count": 12,
   "id": "5e177019",
   "metadata": {},
   "outputs": [
    {
     "data": {
      "text/plain": [
       "id\n",
       "1       1\n",
       "2       1\n",
       "3       1\n",
       "4       1\n",
       "5       1\n",
       "       ..\n",
       "1098    1\n",
       "1099    1\n",
       "1100    1\n",
       "1101    1\n",
       "1102    1\n",
       "Name: count, Length: 102, dtype: int64"
      ]
     },
     "execution_count": 12,
     "metadata": {},
     "output_type": "execute_result"
    }
   ],
   "source": [
    "df['id'].value_counts()"
   ]
  },
  {
   "cell_type": "code",
   "execution_count": 13,
   "id": "a3fc7561",
   "metadata": {},
   "outputs": [
    {
     "data": {
      "text/plain": [
       "count     102.000000\n",
       "mean      999.735294\n",
       "std       229.336448\n",
       "min         1.000000\n",
       "25%      1021.250000\n",
       "50%      1047.000000\n",
       "75%      1075.750000\n",
       "max      1103.000000\n",
       "Name: id, dtype: float64"
      ]
     },
     "execution_count": 13,
     "metadata": {},
     "output_type": "execute_result"
    }
   ],
   "source": [
    "df['id'].describe()"
   ]
  },
  {
   "cell_type": "markdown",
   "id": "ae93531e",
   "metadata": {},
   "source": [
    "#### name"
   ]
  },
  {
   "cell_type": "code",
   "execution_count": 14,
   "id": "926ef896",
   "metadata": {},
   "outputs": [
    {
     "data": {
      "text/plain": [
       "name\n",
       "Carolina Oliveira     3\n",
       "Lucas Rodrigues       2\n",
       "Beatriz Oliveira      2\n",
       "Felipe Santos         2\n",
       "Mariana Costa         2\n",
       "                     ..\n",
       "Patrícia Lima         1\n",
       "André Silva           1\n",
       "Amanda Almeida        1\n",
       "Rodrigo Santos        1\n",
       "Carolina Fernandes    1\n",
       "Name: count, Length: 89, dtype: int64"
      ]
     },
     "execution_count": 14,
     "metadata": {},
     "output_type": "execute_result"
    }
   ],
   "source": [
    "df['name'].value_counts()"
   ]
  },
  {
   "cell_type": "markdown",
   "id": "cbe20b61",
   "metadata": {},
   "source": [
    "Alguns nome estão repetidos mas isso não é um problema por si só, vamos seguir assim mesmo"
   ]
  },
  {
   "cell_type": "markdown",
   "id": "421de6c4",
   "metadata": {},
   "source": [
    "#### age"
   ]
  },
  {
   "cell_type": "code",
   "execution_count": 15,
   "id": "d151ee5b",
   "metadata": {},
   "outputs": [
    {
     "data": {
      "text/plain": [
       "age\n",
       "29    11\n",
       "31     9\n",
       "28     8\n",
       "27     8\n",
       "39     7\n",
       "33     7\n",
       "35     6\n",
       "37     6\n",
       "32     5\n",
       "42     4\n",
       "34     4\n",
       "30     4\n",
       "36     4\n",
       "41     3\n",
       "43     3\n",
       "45     3\n",
       "40     3\n",
       "26     2\n",
       "38     2\n",
       "55     1\n",
       "48     1\n",
       "46     1\n",
       "Name: count, dtype: int64"
      ]
     },
     "execution_count": 15,
     "metadata": {},
     "output_type": "execute_result"
    }
   ],
   "source": [
    "df['age'].value_counts()"
   ]
  },
  {
   "cell_type": "markdown",
   "id": "a25bd7f4",
   "metadata": {},
   "source": [
    "Tudo certo"
   ]
  },
  {
   "cell_type": "markdown",
   "id": "38b3cf0a",
   "metadata": {},
   "source": [
    "#### gender"
   ]
  },
  {
   "cell_type": "code",
   "execution_count": 16,
   "id": "39b36988",
   "metadata": {},
   "outputs": [
    {
     "data": {
      "text/plain": [
       "gender\n",
       "Feminino     52\n",
       "Masculino    50\n",
       "Name: count, dtype: int64"
      ]
     },
     "execution_count": 16,
     "metadata": {},
     "output_type": "execute_result"
    }
   ],
   "source": [
    "df['gender'].value_counts()"
   ]
  },
  {
   "cell_type": "markdown",
   "id": "9be8fe74",
   "metadata": {},
   "source": [
    "Certo!"
   ]
  },
  {
   "cell_type": "markdown",
   "id": "774c1132",
   "metadata": {},
   "source": [
    "#### marital_status"
   ]
  },
  {
   "cell_type": "code",
   "execution_count": 17,
   "id": "d201222f",
   "metadata": {},
   "outputs": [
    {
     "data": {
      "text/plain": [
       "marital_status\n",
       "Casado        53\n",
       "Solteiro      45\n",
       "Divorciado     3\n",
       "Viúvo          1\n",
       "Name: count, dtype: int64"
      ]
     },
     "execution_count": 17,
     "metadata": {},
     "output_type": "execute_result"
    }
   ],
   "source": [
    "df['marital_status'].value_counts()"
   ]
  },
  {
   "cell_type": "markdown",
   "id": "c096b517",
   "metadata": {},
   "source": [
    "Certo!"
   ]
  },
  {
   "cell_type": "markdown",
   "id": "d4c0679a",
   "metadata": {},
   "source": [
    "#### qtd_dependents"
   ]
  },
  {
   "cell_type": "code",
   "execution_count": 18,
   "id": "8ddefd7c",
   "metadata": {},
   "outputs": [
    {
     "data": {
      "text/plain": [
       "qtd_dependents\n",
       "0    47\n",
       "1    26\n",
       "2    25\n",
       "3     4\n",
       "Name: count, dtype: int64"
      ]
     },
     "execution_count": 18,
     "metadata": {},
     "output_type": "execute_result"
    }
   ],
   "source": [
    "df['qtd_dependents'].value_counts() "
   ]
  },
  {
   "cell_type": "markdown",
   "id": "732905ca",
   "metadata": {},
   "source": [
    "#### start_date"
   ]
  },
  {
   "cell_type": "code",
   "execution_count": 19,
   "id": "5cc5e81d",
   "metadata": {},
   "outputs": [
    {
     "name": "stdout",
     "output_type": "stream",
     "text": [
      "years: 2017 2023\n",
      "months: 01 12\n",
      "days: 01 20\n"
     ]
    }
   ],
   "source": [
    "years = [date[0] for date in df['start_date'].str.split('-')]\n",
    "months = [date[1] for date in df['start_date'].str.split('-')]\n",
    "days = [date[2] for date in df['start_date'].str.split('-')]\n",
    "\n",
    "print('years:', min(years), max(years))\n",
    "print('months:', min(months), max(months))\n",
    "print('days:', min(days), max(days))    "
   ]
  },
  {
   "cell_type": "markdown",
   "id": "506e8965",
   "metadata": {},
   "source": [
    "Os valores e estruturas estao coerentes com YYYY-MM-DD"
   ]
  },
  {
   "cell_type": "markdown",
   "id": "d350ee38",
   "metadata": {},
   "source": [
    "#### churn_date"
   ]
  },
  {
   "cell_type": "code",
   "execution_count": 20,
   "id": "6fba2b06",
   "metadata": {},
   "outputs": [
    {
     "name": "stdout",
     "output_type": "stream",
     "text": [
      "years: 2021 2023\n",
      "months: 01 09\n",
      "days: 05 30\n",
      "churn_rate: 0.0392156862745098\n"
     ]
    }
   ],
   "source": [
    "churn_dates = df['churn_date'].dropna()\n",
    "\n",
    "years = [date[0] for date in churn_dates.str.split('-')]\n",
    "months = [date[1] for date in churn_dates.str.split('-')]\n",
    "days = [date[2] for date in churn_dates.str.split('-')]\n",
    "\n",
    "print('years:', min(years), max(years))\n",
    "print('months:', min(months), max(months))\n",
    "print('days:', min(days), max(days))\n",
    "print('churn_rate:', churn_dates.shape[0]/df.shape[0])"
   ]
  },
  {
   "cell_type": "markdown",
   "id": "6163abca",
   "metadata": {},
   "source": [
    "Os valores e estruturas estao coerentes com YYYY-MM-DD\n",
    "\n",
    "Mas levanta aqui o ponto de que o churn percebido é muito baixo,\\\n",
    "a analise deve focar mais em detratores (baseado nos comentarios) do que no churn em si"
   ]
  },
  {
   "cell_type": "markdown",
   "id": "d63faaf1",
   "metadata": {},
   "source": [
    "#### price"
   ]
  },
  {
   "cell_type": "code",
   "execution_count": 21,
   "id": "89fbef1d",
   "metadata": {},
   "outputs": [
    {
     "data": {
      "text/plain": [
       "price\n",
       "99.99     21\n",
       "109.99    15\n",
       "89.99     13\n",
       "149.99    13\n",
       "129.99    13\n",
       "119.99     9\n",
       "139.99     5\n",
       "179.99     5\n",
       "159.99     3\n",
       "79.99      2\n",
       "189.99     2\n",
       "69.99      1\n",
       "Name: count, dtype: int64"
      ]
     },
     "execution_count": 21,
     "metadata": {},
     "output_type": "execute_result"
    }
   ],
   "source": [
    "df['price'].value_counts() "
   ]
  },
  {
   "cell_type": "markdown",
   "id": "605654f0",
   "metadata": {},
   "source": [
    "Os valores e estruturas estao coerentes"
   ]
  },
  {
   "cell_type": "markdown",
   "id": "831baa67",
   "metadata": {},
   "source": [
    "#### service"
   ]
  },
  {
   "cell_type": "code",
   "execution_count": 22,
   "id": "a2f6febb",
   "metadata": {},
   "outputs": [
    {
     "data": {
      "text/plain": [
       "service\n",
       "Internet           31\n",
       "TV a Cabo          25\n",
       "Telefonia Móvel    23\n",
       "Telefonia Fixa     23\n",
       "Name: count, dtype: int64"
      ]
     },
     "execution_count": 22,
     "metadata": {},
     "output_type": "execute_result"
    }
   ],
   "source": [
    "df['service'].value_counts() "
   ]
  },
  {
   "cell_type": "markdown",
   "id": "5a50175c",
   "metadata": {},
   "source": [
    "Os valores e estruturas estao coerentes"
   ]
  },
  {
   "cell_type": "markdown",
   "id": "fb93c098",
   "metadata": {},
   "source": [
    "#### tma"
   ]
  },
  {
   "cell_type": "code",
   "execution_count": 23,
   "id": "d0a77e29",
   "metadata": {},
   "outputs": [
    {
     "data": {
      "text/plain": [
       "tma\n",
       "1.2    5\n",
       "4.8    4\n",
       "4.6    3\n",
       "1.1    3\n",
       "1.3    3\n",
       "2.9    3\n",
       "3.9    3\n",
       "3.2    2\n",
       "6.2    2\n",
       "4.5    2\n",
       "5.3    2\n",
       "6.9    2\n",
       "1.5    2\n",
       "2.2    2\n",
       "2.4    2\n",
       "5.5    2\n",
       "4.2    2\n",
       "5.2    1\n",
       "5.1    1\n",
       "6.7    1\n",
       "4.3    1\n",
       "5.9    1\n",
       "7.2    1\n",
       "5.8    1\n",
       "6.5    1\n",
       "7.5    1\n",
       "1.9    1\n",
       "3.7    1\n",
       "2.1    1\n",
       "3.5    1\n",
       "2.6    1\n",
       "2.7    1\n",
       "1.4    1\n",
       "2.3    1\n",
       "2.8    1\n",
       "Name: count, dtype: int64"
      ]
     },
     "execution_count": 23,
     "metadata": {},
     "output_type": "execute_result"
    }
   ],
   "source": [
    "df['tma'].value_counts() "
   ]
  },
  {
   "cell_type": "markdown",
   "id": "483390e0",
   "metadata": {},
   "source": [
    "Os valores estão coerentes, mas vamos ajustar de minutos para segundos"
   ]
  },
  {
   "cell_type": "code",
   "execution_count": 24,
   "id": "7251ca29",
   "metadata": {},
   "outputs": [
    {
     "name": "stderr",
     "output_type": "stream",
     "text": [
      "/tmp/ipykernel_128776/1924232527.py:2: FutureWarning: A value is trying to be set on a copy of a DataFrame or Series through chained assignment using an inplace method.\n",
      "The behavior will change in pandas 3.0. This inplace method will never work because the intermediate object on which we are setting values always behaves as a copy.\n",
      "\n",
      "For example, when doing 'df[col].method(value, inplace=True)', try using 'df.method({col: value}, inplace=True)' or df[col] = df[col].method(value) instead, to perform the operation inplace on the original object.\n",
      "\n",
      "\n",
      "  df['tma'].fillna(0, inplace=True)\n"
     ]
    }
   ],
   "source": [
    "df['tma'] = df['tma'] * 60\n",
    "df['tma'].fillna(0, inplace=True)"
   ]
  },
  {
   "cell_type": "code",
   "execution_count": 25,
   "id": "255ba8ab",
   "metadata": {},
   "outputs": [
    {
     "data": {
      "text/plain": [
       "count    102.000000\n",
       "mean     133.882353\n",
       "std      139.197082\n",
       "min        0.000000\n",
       "25%        0.000000\n",
       "50%       81.000000\n",
       "75%      256.500000\n",
       "max      450.000000\n",
       "Name: tma, dtype: float64"
      ]
     },
     "execution_count": 25,
     "metadata": {},
     "output_type": "execute_result"
    }
   ],
   "source": [
    "df['tma'].describe()"
   ]
  },
  {
   "cell_type": "markdown",
   "id": "793e2716",
   "metadata": {},
   "source": [
    "#### data_volume"
   ]
  },
  {
   "cell_type": "code",
   "execution_count": 26,
   "id": "9572dcbe",
   "metadata": {},
   "outputs": [
    {
     "data": {
      "text/plain": [
       "data_volume\n",
       "-         40\n",
       "2.3 GB     5\n",
       "2.1 GB     3\n",
       "1.8 GB     2\n",
       "3.5 GB     1\n",
       "2.7 GB     1\n",
       "3.2 GB     1\n",
       "2.5 GB     1\n",
       "Name: count, dtype: int64"
      ]
     },
     "execution_count": 26,
     "metadata": {},
     "output_type": "execute_result"
    }
   ],
   "source": [
    "df['data_volume'].value_counts() "
   ]
  },
  {
   "cell_type": "markdown",
   "id": "29999e39",
   "metadata": {},
   "source": [
    "Vamos remover o GB para tratar o valor em si, se quisermos"
   ]
  },
  {
   "cell_type": "code",
   "execution_count": 27,
   "id": "aed6f100",
   "metadata": {},
   "outputs": [
    {
     "name": "stderr",
     "output_type": "stream",
     "text": [
      "/tmp/ipykernel_128776/771530290.py:8: FutureWarning: A value is trying to be set on a copy of a DataFrame or Series through chained assignment using an inplace method.\n",
      "The behavior will change in pandas 3.0. This inplace method will never work because the intermediate object on which we are setting values always behaves as a copy.\n",
      "\n",
      "For example, when doing 'df[col].method(value, inplace=True)', try using 'df.method({col: value}, inplace=True)' or df[col] = df[col].method(value) instead, to perform the operation inplace on the original object.\n",
      "\n",
      "\n",
      "  df['data_volume'].fillna(0, inplace=True)\n"
     ]
    },
    {
     "data": {
      "text/plain": [
       "count    102.000000\n",
       "mean       0.326471\n",
       "std        0.840312\n",
       "min        0.000000\n",
       "25%        0.000000\n",
       "50%        0.000000\n",
       "75%        0.000000\n",
       "max        3.500000\n",
       "Name: data_volume, dtype: float64"
      ]
     },
     "execution_count": 27,
     "metadata": {},
     "output_type": "execute_result"
    }
   ],
   "source": [
    "try:\n",
    "    df['data_volume'] = df['data_volume'].str.replace(' GB','')\n",
    "    df['data_volume'] = df['data_volume'].str.replace('-','0')\n",
    "    df['data_volume'] = df['data_volume'].astype(float)\n",
    "except AttributeError:\n",
    "    pass\n",
    "\n",
    "df['data_volume'].fillna(0, inplace=True)\n",
    "df['data_volume'].describe()"
   ]
  },
  {
   "cell_type": "markdown",
   "id": "03a4bbe0",
   "metadata": {},
   "source": [
    "#### qtd_appointments"
   ]
  },
  {
   "cell_type": "code",
   "execution_count": 28,
   "id": "f223fc76",
   "metadata": {},
   "outputs": [
    {
     "data": {
      "text/plain": [
       "qtd_appointments\n",
       "0    37\n",
       "1    15\n",
       "-    15\n",
       "2     2\n",
       "Name: count, dtype: int64"
      ]
     },
     "execution_count": 28,
     "metadata": {},
     "output_type": "execute_result"
    }
   ],
   "source": [
    "df['qtd_appointments'].value_counts() "
   ]
  },
  {
   "cell_type": "code",
   "execution_count": 29,
   "id": "80f13493",
   "metadata": {},
   "outputs": [
    {
     "data": {
      "text/plain": [
       "qtd_appointments\n",
       "0.0    52\n",
       "1.0    15\n",
       "2.0     2\n",
       "Name: count, dtype: int64"
      ]
     },
     "execution_count": 29,
     "metadata": {},
     "output_type": "execute_result"
    }
   ],
   "source": [
    "df['qtd_appointments'] = df['qtd_appointments'].str.replace('-','0')\n",
    "df['qtd_appointments'] = df['qtd_appointments'].astype(float)\n",
    "df['qtd_appointments'].value_counts() "
   ]
  },
  {
   "cell_type": "markdown",
   "id": "7c934c08",
   "metadata": {},
   "source": [
    "Vamos adicionar o atributo explicito de churn no df"
   ]
  },
  {
   "cell_type": "code",
   "execution_count": 30,
   "id": "99a1c658",
   "metadata": {},
   "outputs": [],
   "source": [
    "df['churn'] = ~ df['churn_date'].isna()"
   ]
  },
  {
   "cell_type": "markdown",
   "id": "2248ae04",
   "metadata": {},
   "source": [
    "E já vamos bater o olho nesses 4% de Churn"
   ]
  },
  {
   "cell_type": "code",
   "execution_count": 32,
   "id": "9d9b7536",
   "metadata": {},
   "outputs": [],
   "source": [
    "df.to_csv('data/03_churn_cleaned.csv', index=False)"
   ]
  }
 ],
 "metadata": {
  "kernelspec": {
   "display_name": ".venv",
   "language": "python",
   "name": "python3"
  },
  "language_info": {
   "codemirror_mode": {
    "name": "ipython",
    "version": 3
   },
   "file_extension": ".py",
   "mimetype": "text/x-python",
   "name": "python",
   "nbconvert_exporter": "python",
   "pygments_lexer": "ipython3",
   "version": "3.12.3"
  }
 },
 "nbformat": 4,
 "nbformat_minor": 5
}
