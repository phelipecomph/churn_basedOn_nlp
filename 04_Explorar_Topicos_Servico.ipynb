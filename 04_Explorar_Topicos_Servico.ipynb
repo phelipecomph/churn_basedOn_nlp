{
 "cells": [
  {
   "cell_type": "markdown",
   "id": "43bff314",
   "metadata": {},
   "source": [
    "Percebemos no ipynb anterior que temos alguns detratores que tem suas reclamações voltados a satisfação com o serviço.\n",
    "\n",
    "E uma das hipoteses inicias é que esse tipo de insatisfação pode ocorrer realmente por uma falha no atendimento a proposta do serviço\\\n",
    "mas também por um desalinhamento de expectativas do consumidor com a proposta de serviço em si.\n",
    "\n",
    "Vamos nesse ipynb notebook buscar confirmar que conseguimos perceber esses 2 casos nos perfis dos clientes"
   ]
  },
  {
   "cell_type": "code",
   "execution_count": 55,
   "id": "2535fb1d",
   "metadata": {},
   "outputs": [
    {
     "name": "stdout",
     "output_type": "stream",
     "text": [
      "(47, 18)\n"
     ]
    },
    {
     "data": {
      "text/html": [
       "<div>\n",
       "<style scoped>\n",
       "    .dataframe tbody tr th:only-of-type {\n",
       "        vertical-align: middle;\n",
       "    }\n",
       "\n",
       "    .dataframe tbody tr th {\n",
       "        vertical-align: top;\n",
       "    }\n",
       "\n",
       "    .dataframe thead th {\n",
       "        text-align: right;\n",
       "    }\n",
       "</style>\n",
       "<table border=\"1\" class=\"dataframe\">\n",
       "  <thead>\n",
       "    <tr style=\"text-align: right;\">\n",
       "      <th></th>\n",
       "      <th>id</th>\n",
       "      <th>name</th>\n",
       "      <th>age</th>\n",
       "      <th>gender</th>\n",
       "      <th>location</th>\n",
       "      <th>marital_status</th>\n",
       "      <th>qtd_dependents</th>\n",
       "      <th>start_date</th>\n",
       "      <th>churn_date</th>\n",
       "      <th>price</th>\n",
       "      <th>service</th>\n",
       "      <th>tma</th>\n",
       "      <th>data_volume</th>\n",
       "      <th>qtd_appointments</th>\n",
       "      <th>comments</th>\n",
       "      <th>churn</th>\n",
       "      <th>classificacao</th>\n",
       "      <th>topic</th>\n",
       "    </tr>\n",
       "  </thead>\n",
       "  <tbody>\n",
       "    <tr>\n",
       "      <th>0</th>\n",
       "      <td>1</td>\n",
       "      <td>João Silva</td>\n",
       "      <td>35</td>\n",
       "      <td>Masculino</td>\n",
       "      <td>SP</td>\n",
       "      <td>Casado</td>\n",
       "      <td>2</td>\n",
       "      <td>2018-05-10</td>\n",
       "      <td>NaN</td>\n",
       "      <td>79.99</td>\n",
       "      <td>Telefonia Móvel</td>\n",
       "      <td>270.0</td>\n",
       "      <td>2.3</td>\n",
       "      <td>2.0</td>\n",
       "      <td>O serviço de internet tem sido instável. Estou...</td>\n",
       "      <td>False</td>\n",
       "      <td>Detrator</td>\n",
       "      <td>internet_connection</td>\n",
       "    </tr>\n",
       "    <tr>\n",
       "      <th>2</th>\n",
       "      <td>3</td>\n",
       "      <td>Carlos Oliveira</td>\n",
       "      <td>42</td>\n",
       "      <td>Masculino</td>\n",
       "      <td>MG</td>\n",
       "      <td>Casado</td>\n",
       "      <td>1</td>\n",
       "      <td>2020-01-20</td>\n",
       "      <td>2021-06-30</td>\n",
       "      <td>139.99</td>\n",
       "      <td>Internet</td>\n",
       "      <td>0.0</td>\n",
       "      <td>0.0</td>\n",
       "      <td>1.0</td>\n",
       "      <td>Tive problemas com a fatura deste mês. O valor...</td>\n",
       "      <td>True</td>\n",
       "      <td>Detrator</td>\n",
       "      <td>atendimento</td>\n",
       "    </tr>\n",
       "  </tbody>\n",
       "</table>\n",
       "</div>"
      ],
      "text/plain": [
       "   id             name  age     gender location marital_status  \\\n",
       "0   1       João Silva   35  Masculino       SP         Casado   \n",
       "2   3  Carlos Oliveira   42  Masculino       MG         Casado   \n",
       "\n",
       "   qtd_dependents  start_date  churn_date   price          service    tma  \\\n",
       "0               2  2018-05-10         NaN   79.99  Telefonia Móvel  270.0   \n",
       "2               1  2020-01-20  2021-06-30  139.99         Internet    0.0   \n",
       "\n",
       "   data_volume  qtd_appointments  \\\n",
       "0          2.3               2.0   \n",
       "2          0.0               1.0   \n",
       "\n",
       "                                            comments  churn classificacao  \\\n",
       "0  O serviço de internet tem sido instável. Estou...  False      Detrator   \n",
       "2  Tive problemas com a fatura deste mês. O valor...   True      Detrator   \n",
       "\n",
       "                 topic  \n",
       "0  internet_connection  \n",
       "2          atendimento  "
      ]
     },
     "execution_count": 55,
     "metadata": {},
     "output_type": "execute_result"
    }
   ],
   "source": [
    "import pandas as pd\n",
    "\n",
    "df = pd.read_csv(\"data/05_nlp_classificados_topicos.csv\")\n",
    "df_detratores = df[(df[\"classificacao\"]==\"Detrator\")]\n",
    "\n",
    "print(df_detratores.shape)\n",
    "df_detratores.head(2)"
   ]
  },
  {
   "cell_type": "markdown",
   "id": "02e3a472",
   "metadata": {},
   "source": [
    "Não vamos explorar aqui o topico de Atendimento por não ter conexão com o serviço em si"
   ]
  },
  {
   "cell_type": "code",
   "execution_count": 56,
   "id": "2a8f68d7",
   "metadata": {},
   "outputs": [
    {
     "name": "stdout",
     "output_type": "stream",
     "text": [
      "\n",
      " Telefonia Móvel\n",
      "    internet_connection: 3\n",
      "    atendimento: 0\n",
      "    other: 0\n",
      "    signal: 0\n",
      "    critical_appointments: 8\n",
      "\n",
      " Internet\n",
      "    internet_connection: 14\n",
      "    atendimento: 1\n",
      "    other: 0\n",
      "    signal: 0\n",
      "    critical_appointments: 0\n",
      "\n",
      " TV a Cabo\n",
      "    internet_connection: 0\n",
      "    atendimento: 7\n",
      "    other: 4\n",
      "    signal: 2\n",
      "    critical_appointments: 0\n",
      "\n",
      " Telefonia Fixa\n",
      "    internet_connection: 0\n",
      "    atendimento: 2\n",
      "    other: 0\n",
      "    signal: 0\n",
      "    critical_appointments: 6\n"
     ]
    },
    {
     "name": "stderr",
     "output_type": "stream",
     "text": [
      "/tmp/ipykernel_332265/2608124078.py:4: UserWarning: Boolean Series key will be reindexed to match DataFrame index.\n",
      "  temp_df = df_detratores[(df[\"service\"]==service) & (df_detratores[\"topic\"]==topic)]\n",
      "/tmp/ipykernel_332265/2608124078.py:4: UserWarning: Boolean Series key will be reindexed to match DataFrame index.\n",
      "  temp_df = df_detratores[(df[\"service\"]==service) & (df_detratores[\"topic\"]==topic)]\n",
      "/tmp/ipykernel_332265/2608124078.py:4: UserWarning: Boolean Series key will be reindexed to match DataFrame index.\n",
      "  temp_df = df_detratores[(df[\"service\"]==service) & (df_detratores[\"topic\"]==topic)]\n",
      "/tmp/ipykernel_332265/2608124078.py:4: UserWarning: Boolean Series key will be reindexed to match DataFrame index.\n",
      "  temp_df = df_detratores[(df[\"service\"]==service) & (df_detratores[\"topic\"]==topic)]\n",
      "/tmp/ipykernel_332265/2608124078.py:4: UserWarning: Boolean Series key will be reindexed to match DataFrame index.\n",
      "  temp_df = df_detratores[(df[\"service\"]==service) & (df_detratores[\"topic\"]==topic)]\n",
      "/tmp/ipykernel_332265/2608124078.py:4: UserWarning: Boolean Series key will be reindexed to match DataFrame index.\n",
      "  temp_df = df_detratores[(df[\"service\"]==service) & (df_detratores[\"topic\"]==topic)]\n",
      "/tmp/ipykernel_332265/2608124078.py:4: UserWarning: Boolean Series key will be reindexed to match DataFrame index.\n",
      "  temp_df = df_detratores[(df[\"service\"]==service) & (df_detratores[\"topic\"]==topic)]\n",
      "/tmp/ipykernel_332265/2608124078.py:4: UserWarning: Boolean Series key will be reindexed to match DataFrame index.\n",
      "  temp_df = df_detratores[(df[\"service\"]==service) & (df_detratores[\"topic\"]==topic)]\n",
      "/tmp/ipykernel_332265/2608124078.py:4: UserWarning: Boolean Series key will be reindexed to match DataFrame index.\n",
      "  temp_df = df_detratores[(df[\"service\"]==service) & (df_detratores[\"topic\"]==topic)]\n",
      "/tmp/ipykernel_332265/2608124078.py:4: UserWarning: Boolean Series key will be reindexed to match DataFrame index.\n",
      "  temp_df = df_detratores[(df[\"service\"]==service) & (df_detratores[\"topic\"]==topic)]\n",
      "/tmp/ipykernel_332265/2608124078.py:4: UserWarning: Boolean Series key will be reindexed to match DataFrame index.\n",
      "  temp_df = df_detratores[(df[\"service\"]==service) & (df_detratores[\"topic\"]==topic)]\n",
      "/tmp/ipykernel_332265/2608124078.py:4: UserWarning: Boolean Series key will be reindexed to match DataFrame index.\n",
      "  temp_df = df_detratores[(df[\"service\"]==service) & (df_detratores[\"topic\"]==topic)]\n",
      "/tmp/ipykernel_332265/2608124078.py:4: UserWarning: Boolean Series key will be reindexed to match DataFrame index.\n",
      "  temp_df = df_detratores[(df[\"service\"]==service) & (df_detratores[\"topic\"]==topic)]\n",
      "/tmp/ipykernel_332265/2608124078.py:4: UserWarning: Boolean Series key will be reindexed to match DataFrame index.\n",
      "  temp_df = df_detratores[(df[\"service\"]==service) & (df_detratores[\"topic\"]==topic)]\n",
      "/tmp/ipykernel_332265/2608124078.py:4: UserWarning: Boolean Series key will be reindexed to match DataFrame index.\n",
      "  temp_df = df_detratores[(df[\"service\"]==service) & (df_detratores[\"topic\"]==topic)]\n",
      "/tmp/ipykernel_332265/2608124078.py:4: UserWarning: Boolean Series key will be reindexed to match DataFrame index.\n",
      "  temp_df = df_detratores[(df[\"service\"]==service) & (df_detratores[\"topic\"]==topic)]\n",
      "/tmp/ipykernel_332265/2608124078.py:4: UserWarning: Boolean Series key will be reindexed to match DataFrame index.\n",
      "  temp_df = df_detratores[(df[\"service\"]==service) & (df_detratores[\"topic\"]==topic)]\n",
      "/tmp/ipykernel_332265/2608124078.py:4: UserWarning: Boolean Series key will be reindexed to match DataFrame index.\n",
      "  temp_df = df_detratores[(df[\"service\"]==service) & (df_detratores[\"topic\"]==topic)]\n",
      "/tmp/ipykernel_332265/2608124078.py:4: UserWarning: Boolean Series key will be reindexed to match DataFrame index.\n",
      "  temp_df = df_detratores[(df[\"service\"]==service) & (df_detratores[\"topic\"]==topic)]\n",
      "/tmp/ipykernel_332265/2608124078.py:4: UserWarning: Boolean Series key will be reindexed to match DataFrame index.\n",
      "  temp_df = df_detratores[(df[\"service\"]==service) & (df_detratores[\"topic\"]==topic)]\n"
     ]
    }
   ],
   "source": [
    "for service in df_detratores[\"service\"].unique():\n",
    "    print('\\n',service)\n",
    "    for topic in df_detratores[\"topic\"].unique():\n",
    "        temp_df = df_detratores[(df[\"service\"]==service) & (df_detratores[\"topic\"]==topic)]\n",
    "        print(f\"    {topic}: {temp_df.shape[0]}\")"
   ]
  },
  {
   "cell_type": "markdown",
   "id": "7422c590",
   "metadata": {},
   "source": [
    "Vamos explorar na ordem apresentada"
   ]
  },
  {
   "cell_type": "markdown",
   "id": "8481b310",
   "metadata": {},
   "source": [
    "### Telefonia Movel"
   ]
  },
  {
   "cell_type": "code",
   "execution_count": 57,
   "id": "862ac1c8",
   "metadata": {},
   "outputs": [
    {
     "name": "stdout",
     "output_type": "stream",
     "text": [
      "O serviço de internet tem sido instável. Estou tendo dificuldades para realizar videochamadas e assistir a filmes online. A velocidade da conexão é muito lenta e cai com frequência. \n",
      "\n",
      "O sinal de internet no meu bairro é muito fraco. Não consigo usar os aplicativos de streaming sem enfrentar interrupções constantes. \n",
      "\n",
      "O serviço de telefonia móvel é absolutamente horrível. As chamadas caem o tempo todo, a qualidade do som é péssima e a internet é lenta. Não há nada positivo para se dizer sobre essa empresa. Fuja dela! \n",
      "\n",
      "A telefonia móvel dessa empresa é uma piada de mau gosto. As chamadas não funcionam adequadamente, a qualidade do som é péssima e a cobertura é praticamente inexistente em muitas áreas. É uma completa perda de dinheiro e tempo. \n",
      "\n",
      "A telefonia móvel dessa empresa é um completo desastre. As chamadas não são completadas, o som é horrível e a cobertura é péssima. É uma completa perda de dinheiro e tempo. Não recomendo de forma alguma. \n",
      "\n",
      "A telefonia móvel dessa empresa é um verdadeiro desastre. As chamadas não são completadas, o som é terrível e a cobertura é péssima. É uma experiência frustrante e uma completa perda de dinheiro. Não recomendo de forma alguma. \n",
      "\n",
      "A telefonia móvel dessa empresa é uma completa decepção. As chamadas são constantemente interrompidas, o som é horrível e a cobertura é péssima. É uma perda de dinheiro e tempo lidar com essa empresa. Não recomendo de forma alguma. \n",
      "\n",
      "A telefonia móvel dessa empresa é um completo desastre. As chamadas não são completadas, o som é horrível e a cobertura é péssima. É uma experiência frustrante e uma total perda de dinheiro. Não recomendo essa empresa de forma alguma. \n",
      "\n",
      "A telefonia móvel dessa empresa é um verdadeiro pesadelo. As chamadas são constantemente interrompidas, o som é terrível e a cobertura é péssima. É uma completa falta de respeito com os clientes. Evite essa empresa a todo custo! \n",
      "\n",
      "Estou extremamente desapontada com o serviço de telefonia móvel dessa empresa. As chamadas são frequentemente cortadas, o som é horrível e a cobertura é péssima. É uma completa falta de respeito com os clientes. Não recomendo essa empresa. \n",
      "\n"
     ]
    }
   ],
   "source": [
    "df_detrator_mobile = df_detratores[df_detratores[\"service\"]==\"Telefonia Móvel\"]\n",
    "for comment in df_detrator_mobile[\"comments\"].unique():\n",
    "    print(comment,'\\n')"
   ]
  },
  {
   "cell_type": "markdown",
   "id": "c4031e4f",
   "metadata": {},
   "source": [
    "Aqui temos algumas coisas interessantes, é possivel notar que nessa secção temos reclamões de 2 tipos:\n",
    "1. Internet Movel\n",
    "2. Chamadas e Cobertura\n",
    "\n",
    "Pro primeiro caso, temos 2 clientes que reclamam de não conseguirem assitir streamings e assistir filmes online\\\n",
    "Que são atividades bem custosas\n",
    "\n",
    "Já para o segundo, temos varias pessoas apontando problemas de sinal e qualidade do som.\n",
    "\n",
    "\n",
    "Vamos olhar mais afundo os 2 casos"
   ]
  },
  {
   "cell_type": "code",
   "execution_count": 58,
   "id": "c23fb527",
   "metadata": {},
   "outputs": [
    {
     "name": "stderr",
     "output_type": "stream",
     "text": [
      "/tmp/ipykernel_332265/2804606702.py:1: UserWarning: Boolean Series key will be reindexed to match DataFrame index.\n",
      "  df_detrator_mobile[(df['topic']=='internet_connection')].head(2)\n"
     ]
    },
    {
     "data": {
      "text/html": [
       "<div>\n",
       "<style scoped>\n",
       "    .dataframe tbody tr th:only-of-type {\n",
       "        vertical-align: middle;\n",
       "    }\n",
       "\n",
       "    .dataframe tbody tr th {\n",
       "        vertical-align: top;\n",
       "    }\n",
       "\n",
       "    .dataframe thead th {\n",
       "        text-align: right;\n",
       "    }\n",
       "</style>\n",
       "<table border=\"1\" class=\"dataframe\">\n",
       "  <thead>\n",
       "    <tr style=\"text-align: right;\">\n",
       "      <th></th>\n",
       "      <th>id</th>\n",
       "      <th>name</th>\n",
       "      <th>age</th>\n",
       "      <th>gender</th>\n",
       "      <th>location</th>\n",
       "      <th>marital_status</th>\n",
       "      <th>qtd_dependents</th>\n",
       "      <th>start_date</th>\n",
       "      <th>churn_date</th>\n",
       "      <th>price</th>\n",
       "      <th>service</th>\n",
       "      <th>tma</th>\n",
       "      <th>data_volume</th>\n",
       "      <th>qtd_appointments</th>\n",
       "      <th>comments</th>\n",
       "      <th>churn</th>\n",
       "      <th>classificacao</th>\n",
       "      <th>topic</th>\n",
       "    </tr>\n",
       "  </thead>\n",
       "  <tbody>\n",
       "    <tr>\n",
       "      <th>0</th>\n",
       "      <td>1</td>\n",
       "      <td>João Silva</td>\n",
       "      <td>35</td>\n",
       "      <td>Masculino</td>\n",
       "      <td>SP</td>\n",
       "      <td>Casado</td>\n",
       "      <td>2</td>\n",
       "      <td>2018-05-10</td>\n",
       "      <td>NaN</td>\n",
       "      <td>79.99</td>\n",
       "      <td>Telefonia Móvel</td>\n",
       "      <td>270.0</td>\n",
       "      <td>2.3</td>\n",
       "      <td>2.0</td>\n",
       "      <td>O serviço de internet tem sido instável. Estou...</td>\n",
       "      <td>False</td>\n",
       "      <td>Detrator</td>\n",
       "      <td>internet_connection</td>\n",
       "    </tr>\n",
       "    <tr>\n",
       "      <th>5</th>\n",
       "      <td>1001</td>\n",
       "      <td>Renata Costa</td>\n",
       "      <td>32</td>\n",
       "      <td>Feminino</td>\n",
       "      <td>SP</td>\n",
       "      <td>Casado</td>\n",
       "      <td>1</td>\n",
       "      <td>2020-07-10</td>\n",
       "      <td>NaN</td>\n",
       "      <td>89.99</td>\n",
       "      <td>Telefonia Móvel</td>\n",
       "      <td>192.0</td>\n",
       "      <td>1.8</td>\n",
       "      <td>0.0</td>\n",
       "      <td>O sinal de internet no meu bairro é muito frac...</td>\n",
       "      <td>False</td>\n",
       "      <td>Detrator</td>\n",
       "      <td>internet_connection</td>\n",
       "    </tr>\n",
       "  </tbody>\n",
       "</table>\n",
       "</div>"
      ],
      "text/plain": [
       "     id          name  age     gender location marital_status  qtd_dependents  \\\n",
       "0     1    João Silva   35  Masculino       SP         Casado               2   \n",
       "5  1001  Renata Costa   32   Feminino       SP         Casado               1   \n",
       "\n",
       "   start_date churn_date  price          service    tma  data_volume  \\\n",
       "0  2018-05-10        NaN  79.99  Telefonia Móvel  270.0          2.3   \n",
       "5  2020-07-10        NaN  89.99  Telefonia Móvel  192.0          1.8   \n",
       "\n",
       "   qtd_appointments                                           comments  churn  \\\n",
       "0               2.0  O serviço de internet tem sido instável. Estou...  False   \n",
       "5               0.0  O sinal de internet no meu bairro é muito frac...  False   \n",
       "\n",
       "  classificacao                topic  \n",
       "0      Detrator  internet_connection  \n",
       "5      Detrator  internet_connection  "
      ]
     },
     "execution_count": 58,
     "metadata": {},
     "output_type": "execute_result"
    }
   ],
   "source": [
    "df_detrator_mobile[(df['topic']=='internet_connection')].head(2)"
   ]
  },
  {
   "cell_type": "markdown",
   "id": "b6af9a89",
   "metadata": {},
   "source": [
    "Vamos entender se o volume de dados desses 2 clientes é maior do que o esperado:"
   ]
  },
  {
   "cell_type": "code",
   "execution_count": 59,
   "id": "605848f7",
   "metadata": {},
   "outputs": [
    {
     "data": {
      "image/png": "[encoded data removed]",
      "text/plain": [
       "<Figure size 640x480 with 1 Axes>"
      ]
     },
     "metadata": {},
     "output_type": "display_data"
    }
   ],
   "source": [
    "import matplotlib.pyplot as plt\n",
    "df[df['service']=='Telefonia Móvel']['data_volume'].plot(kind='hist')\n",
    "\n",
    "plt.axvline(x=2.3, color='red', linestyle='--', label='2.3')\n",
    "plt.axvline(x=1.8, color='red', linestyle='--', label='1.8')\n",
    "plt.legend()\n",
    "plt.show()"
   ]
  },
  {
   "cell_type": "markdown",
   "id": "9913cbb8",
   "metadata": {},
   "source": [
    "Nenhum dos dois clientes parecem ter um uso excepcional do serviço a ponto disso realmente ser um problema.\n",
    "\n",
    "Talvez estejamos vendo um problema regional, já que ambos são de SP, para buscar reforço para essa hipotese, vamos buscar entender a concentração de Detratores de Telefonia Móvel em SP"
   ]
  },
  {
   "cell_type": "code",
   "execution_count": 60,
   "id": "0e4501eb",
   "metadata": {},
   "outputs": [
    {
     "name": "stdout",
     "output_type": "stream",
     "text": [
      "Promotores: 9\n",
      "Detratores: 11\n",
      "Neutros: 3\n",
      "NPS: -8.7\n",
      "\n",
      "Promotores: 2\n",
      "Detratores: 2\n",
      "Neutros: 1\n",
      "NPS: 0.0\n"
     ]
    }
   ],
   "source": [
    "from utils.nlp_classifier import calcular_nps\n",
    "\n",
    "calcular_nps(df[df['service']=='Telefonia Móvel'])\n",
    "print()\n",
    "nps = calcular_nps(df[(df['service']=='Telefonia Móvel') & (df['location']=='SP')])"
   ]
  },
  {
   "cell_type": "markdown",
   "id": "ab5268ee",
   "metadata": {},
   "source": [
    "O NPS em SP na verdade é até um pouco melhor, vamos ver o que os Promotores dizem sobre o serviço"
   ]
  },
  {
   "cell_type": "code",
   "execution_count": 61,
   "id": "217b9ba0",
   "metadata": {},
   "outputs": [
    {
     "data": {
      "text/html": [
       "<div>\n",
       "<style scoped>\n",
       "    .dataframe tbody tr th:only-of-type {\n",
       "        vertical-align: middle;\n",
       "    }\n",
       "\n",
       "    .dataframe tbody tr th {\n",
       "        vertical-align: top;\n",
       "    }\n",
       "\n",
       "    .dataframe thead th {\n",
       "        text-align: right;\n",
       "    }\n",
       "</style>\n",
       "<table border=\"1\" class=\"dataframe\">\n",
       "  <thead>\n",
       "    <tr style=\"text-align: right;\">\n",
       "      <th></th>\n",
       "      <th>id</th>\n",
       "      <th>name</th>\n",
       "      <th>age</th>\n",
       "      <th>gender</th>\n",
       "      <th>location</th>\n",
       "      <th>marital_status</th>\n",
       "      <th>qtd_dependents</th>\n",
       "      <th>start_date</th>\n",
       "      <th>churn_date</th>\n",
       "      <th>price</th>\n",
       "      <th>service</th>\n",
       "      <th>tma</th>\n",
       "      <th>data_volume</th>\n",
       "      <th>qtd_appointments</th>\n",
       "      <th>comments</th>\n",
       "      <th>churn</th>\n",
       "      <th>classificacao</th>\n",
       "      <th>topic</th>\n",
       "    </tr>\n",
       "  </thead>\n",
       "  <tbody>\n",
       "    <tr>\n",
       "      <th>15</th>\n",
       "      <td>1011</td>\n",
       "      <td>Isabela Fernandes</td>\n",
       "      <td>27</td>\n",
       "      <td>Feminino</td>\n",
       "      <td>SP</td>\n",
       "      <td>Solteiro</td>\n",
       "      <td>0</td>\n",
       "      <td>2021-08-10</td>\n",
       "      <td>NaN</td>\n",
       "      <td>79.99</td>\n",
       "      <td>Telefonia Móvel</td>\n",
       "      <td>234.0</td>\n",
       "      <td>2.1</td>\n",
       "      <td>0.0</td>\n",
       "      <td>Estou satisfeita com o serviço de telefonia mó...</td>\n",
       "      <td>False</td>\n",
       "      <td>Promotor</td>\n",
       "      <td>internet_connection</td>\n",
       "    </tr>\n",
       "    <tr>\n",
       "      <th>43</th>\n",
       "      <td>1039</td>\n",
       "      <td>Amanda Castro</td>\n",
       "      <td>31</td>\n",
       "      <td>Feminino</td>\n",
       "      <td>SP</td>\n",
       "      <td>Solteiro</td>\n",
       "      <td>0</td>\n",
       "      <td>2022-01-05</td>\n",
       "      <td>NaN</td>\n",
       "      <td>109.99</td>\n",
       "      <td>Telefonia Móvel</td>\n",
       "      <td>234.0</td>\n",
       "      <td>1.8</td>\n",
       "      <td>0.0</td>\n",
       "      <td>Estou satisfeita com o serviço de telefonia mó...</td>\n",
       "      <td>False</td>\n",
       "      <td>Promotor</td>\n",
       "      <td>internet_connection</td>\n",
       "    </tr>\n",
       "  </tbody>\n",
       "</table>\n",
       "</div>"
      ],
      "text/plain": [
       "      id               name  age    gender location marital_status  \\\n",
       "15  1011  Isabela Fernandes   27  Feminino       SP       Solteiro   \n",
       "43  1039      Amanda Castro   31  Feminino       SP       Solteiro   \n",
       "\n",
       "    qtd_dependents  start_date churn_date   price          service    tma  \\\n",
       "15               0  2021-08-10        NaN   79.99  Telefonia Móvel  234.0   \n",
       "43               0  2022-01-05        NaN  109.99  Telefonia Móvel  234.0   \n",
       "\n",
       "    data_volume  qtd_appointments  \\\n",
       "15          2.1               0.0   \n",
       "43          1.8               0.0   \n",
       "\n",
       "                                             comments  churn classificacao  \\\n",
       "15  Estou satisfeita com o serviço de telefonia mó...  False      Promotor   \n",
       "43  Estou satisfeita com o serviço de telefonia mó...  False      Promotor   \n",
       "\n",
       "                  topic  \n",
       "15  internet_connection  \n",
       "43  internet_connection  "
      ]
     },
     "execution_count": 61,
     "metadata": {},
     "output_type": "execute_result"
    }
   ],
   "source": [
    "df_mobile_promotor_sp = df[(df['service']=='Telefonia Móvel') & (df['location']=='SP') & (df['classificacao']=='Promotor')]\n",
    "df_mobile_promotor_sp"
   ]
  },
  {
   "cell_type": "code",
   "execution_count": 62,
   "id": "cc2e0a5e",
   "metadata": {},
   "outputs": [
    {
     "name": "stdout",
     "output_type": "stream",
     "text": [
      "Estou satisfeita com o serviço de telefonia móvel. A cobertura é boa e a internet é rápida. \n",
      "\n",
      "Estou satisfeita com o serviço de telefonia móvel. As chamadas são claras e a internet atende às minhas necessidades básicas. O preço também é razoável em comparação com outras operadoras. Recomendo! \n",
      "\n"
     ]
    }
   ],
   "source": [
    "for comment in df_mobile_promotor_sp[\"comments\"].unique():\n",
    "    print(comment,'\\n')"
   ]
  },
  {
   "cell_type": "markdown",
   "id": "240d0cbc",
   "metadata": {},
   "source": [
    "O volume de dados é bem semelhante entre os Promotores e Detratores, no entanto os promotores não citam especificamente o uso para straming e videos na internet movel.\n",
    "\n",
    "Podemos estar diante de um problema de alinhamento de expectativas.\n",
    "\n",
    "É importante notar que tratar esse ponto de alguma forma moveria o NPS de telefonia movel de SP de 0 para 80\\\n",
    "Mas teria baixo impacto no NPS da telefonia movel geral saido de -9 para 9"
   ]
  },
  {
   "cell_type": "markdown",
   "id": "78542d7c",
   "metadata": {},
   "source": [
    "Vamos explorar a reclamação de cobertura e qualidade de audio que foi mais presente para esse serviço"
   ]
  },
  {
   "cell_type": "code",
   "execution_count": 63,
   "id": "58d004fe",
   "metadata": {},
   "outputs": [
    {
     "data": {
      "text/plain": [
       "location\n",
       "RS    8\n",
       "Name: count, dtype: int64"
      ]
     },
     "execution_count": 63,
     "metadata": {},
     "output_type": "execute_result"
    }
   ],
   "source": [
    "df_detrator_mobile[(df_detrator_mobile['topic']!='internet_connection')]['location'].value_counts()"
   ]
  },
  {
   "cell_type": "code",
   "execution_count": 64,
   "id": "126cd5e1",
   "metadata": {},
   "outputs": [
    {
     "data": {
      "text/html": [
       "<div>\n",
       "<style scoped>\n",
       "    .dataframe tbody tr th:only-of-type {\n",
       "        vertical-align: middle;\n",
       "    }\n",
       "\n",
       "    .dataframe tbody tr th {\n",
       "        vertical-align: top;\n",
       "    }\n",
       "\n",
       "    .dataframe thead th {\n",
       "        text-align: right;\n",
       "    }\n",
       "</style>\n",
       "<table border=\"1\" class=\"dataframe\">\n",
       "  <thead>\n",
       "    <tr style=\"text-align: right;\">\n",
       "      <th></th>\n",
       "      <th>id</th>\n",
       "      <th>name</th>\n",
       "      <th>age</th>\n",
       "      <th>gender</th>\n",
       "      <th>location</th>\n",
       "      <th>marital_status</th>\n",
       "      <th>qtd_dependents</th>\n",
       "      <th>start_date</th>\n",
       "      <th>churn_date</th>\n",
       "      <th>price</th>\n",
       "      <th>service</th>\n",
       "      <th>tma</th>\n",
       "      <th>data_volume</th>\n",
       "      <th>qtd_appointments</th>\n",
       "      <th>comments</th>\n",
       "      <th>churn</th>\n",
       "      <th>classificacao</th>\n",
       "      <th>topic</th>\n",
       "    </tr>\n",
       "  </thead>\n",
       "  <tbody>\n",
       "    <tr>\n",
       "      <th>27</th>\n",
       "      <td>1023</td>\n",
       "      <td>Carolina Oliveira</td>\n",
       "      <td>32</td>\n",
       "      <td>Feminino</td>\n",
       "      <td>RS</td>\n",
       "      <td>Solteiro</td>\n",
       "      <td>0</td>\n",
       "      <td>2021-04-12</td>\n",
       "      <td>NaN</td>\n",
       "      <td>109.99</td>\n",
       "      <td>Telefonia Móvel</td>\n",
       "      <td>252.0</td>\n",
       "      <td>2.1</td>\n",
       "      <td>0.0</td>\n",
       "      <td>Estou satisfeita com o serviço de telefonia mó...</td>\n",
       "      <td>False</td>\n",
       "      <td>Promotor</td>\n",
       "      <td>internet_connection</td>\n",
       "    </tr>\n",
       "    <tr>\n",
       "      <th>58</th>\n",
       "      <td>1056</td>\n",
       "      <td>Larissa Almeida</td>\n",
       "      <td>29</td>\n",
       "      <td>Feminino</td>\n",
       "      <td>RS</td>\n",
       "      <td>Solteiro</td>\n",
       "      <td>0</td>\n",
       "      <td>2022-06-10</td>\n",
       "      <td>NaN</td>\n",
       "      <td>89.99</td>\n",
       "      <td>Telefonia Móvel</td>\n",
       "      <td>288.0</td>\n",
       "      <td>2.3</td>\n",
       "      <td>0.0</td>\n",
       "      <td>Estou satisfeita com o serviço de telefonia mó...</td>\n",
       "      <td>False</td>\n",
       "      <td>Promotor</td>\n",
       "      <td>internet_connection</td>\n",
       "    </tr>\n",
       "    <tr>\n",
       "      <th>63</th>\n",
       "      <td>1062</td>\n",
       "      <td>Luana Almeida</td>\n",
       "      <td>29</td>\n",
       "      <td>Feminino</td>\n",
       "      <td>RS</td>\n",
       "      <td>Solteiro</td>\n",
       "      <td>0</td>\n",
       "      <td>2022-06-10</td>\n",
       "      <td>NaN</td>\n",
       "      <td>89.99</td>\n",
       "      <td>Telefonia Móvel</td>\n",
       "      <td>288.0</td>\n",
       "      <td>2.3</td>\n",
       "      <td>0.0</td>\n",
       "      <td>Estou satisfeita com o serviço de telefonia mó...</td>\n",
       "      <td>False</td>\n",
       "      <td>Promotor</td>\n",
       "      <td>internet_connection</td>\n",
       "    </tr>\n",
       "  </tbody>\n",
       "</table>\n",
       "</div>"
      ],
      "text/plain": [
       "      id               name  age    gender location marital_status  \\\n",
       "27  1023  Carolina Oliveira   32  Feminino       RS       Solteiro   \n",
       "58  1056    Larissa Almeida   29  Feminino       RS       Solteiro   \n",
       "63  1062      Luana Almeida   29  Feminino       RS       Solteiro   \n",
       "\n",
       "    qtd_dependents  start_date churn_date   price          service    tma  \\\n",
       "27               0  2021-04-12        NaN  109.99  Telefonia Móvel  252.0   \n",
       "58               0  2022-06-10        NaN   89.99  Telefonia Móvel  288.0   \n",
       "63               0  2022-06-10        NaN   89.99  Telefonia Móvel  288.0   \n",
       "\n",
       "    data_volume  qtd_appointments  \\\n",
       "27          2.1               0.0   \n",
       "58          2.3               0.0   \n",
       "63          2.3               0.0   \n",
       "\n",
       "                                             comments  churn classificacao  \\\n",
       "27  Estou satisfeita com o serviço de telefonia mó...  False      Promotor   \n",
       "58  Estou satisfeita com o serviço de telefonia mó...  False      Promotor   \n",
       "63  Estou satisfeita com o serviço de telefonia mó...  False      Promotor   \n",
       "\n",
       "                  topic  \n",
       "27  internet_connection  \n",
       "58  internet_connection  \n",
       "63  internet_connection  "
      ]
     },
     "execution_count": 64,
     "metadata": {},
     "output_type": "execute_result"
    }
   ],
   "source": [
    "df[(df['service']=='Telefonia Móvel') & (df['location']=='RS') & (df['classificacao']=='Promotor')]"
   ]
  },
  {
   "cell_type": "code",
   "execution_count": 65,
   "id": "781542cd",
   "metadata": {},
   "outputs": [
    {
     "data": {
      "image/png": "[encoded data removed]",
      "text/plain": [
       "<Figure size 640x480 with 1 Axes>"
      ]
     },
     "metadata": {},
     "output_type": "display_data"
    }
   ],
   "source": [
    "df['tma'].plot(kind='hist')\n",
    "\n",
    "plt.axvline(x=252, color='red', linestyle='--', label='252')\n",
    "plt.axvline(x=288, color='red', linestyle='--', label='288')\n",
    "plt.legend()\n",
    "plt.show()"
   ]
  },
  {
   "cell_type": "markdown",
   "id": "b3fff4c9",
   "metadata": {},
   "source": [
    "Em uma analise inicial percebemos que todos os Detratores que apontam esse problema estao na regional de RS e que os demais clientes da região,\\\n",
    "mesmo que não declarados como Detratores possuem um tempo de atendimento bem alto, o que denota algum desconforto que teve dificuldade de ser tratado"
   ]
  },
  {
   "cell_type": "markdown",
   "id": "226beb76",
   "metadata": {},
   "source": [
    "No entando isso pode ser um forte indicio que o atendimento da região de alguma forma conseguiu sanar o desconforto relacionado a essa reclamação\n",
    "\n",
    "E envolve-los pode apoiar tanto em uma solução provisoria quanto indicar um ponto de partida para a solução do, provavel, problema tecnico da região"
   ]
  },
  {
   "cell_type": "markdown",
   "id": "4bd8fff5",
   "metadata": {},
   "source": [
    "Por sua vez a resolução desse problema, impacta bastante positiviamente no NPS:\n",
    "\n",
    "\n",
    "Telefonia Movel: -9 -> 65 (Saindo da Zona Critica pra beirando a Zona de Qualidade)\\\n",
    "NPS Geral: 1 -> 18"
   ]
  },
  {
   "cell_type": "markdown",
   "id": "035e9c13",
   "metadata": {},
   "source": [
    "### Internet"
   ]
  },
  {
   "cell_type": "code",
   "execution_count": 66,
   "id": "9a7565c0",
   "metadata": {},
   "outputs": [
    {
     "name": "stdout",
     "output_type": "stream",
     "text": [
      "A velocidade da internet está abaixo do esperado. Não consigo assistir a vídeos em HD sem interrupções constantes. \n",
      "\n",
      "A internet fornecida é simplesmente terrível. A velocidade é lenta, o sinal cai constantemente e o suporte técnico não é capaz de solucionar os problemas. Estou extremamente frustrado com o serviço e planejo cancelá-lo o mais rápido possível. \n",
      "\n",
      "Tive problemas com a fatura deste mês. O valor cobrado está incorreto e não consigo entrar em contato com o atendimento ao cliente. Já enviei diversos emails e tentei ligar várias vezes, mas não obtive resposta. \n",
      "\n",
      "Estou extremamente insatisfeito com a empresa de internet. A velocidade é extremamente lenta, a conexão cai com frequência e o suporte técnico é inútil. É uma completa perda de tempo e dinheiro lidar com essa empresa. Não recomendo a ninguém. \n",
      "\n",
      "Essa empresa de internet é uma completa vergonha. A velocidade é ridícula, a conexão cai o tempo todo e o suporte técnico é ineficiente. É um completo desperdício de dinheiro lidar com essa empresa. Não recomendo a ninguém. \n",
      "\n",
      "Essa empresa de internet é simplesmente horrível. A velocidade é ridícula, a conexão é constantemente interrompida e o suporte técnico é inútil. Não há palavras para expressar o quão péssimo é o serviço oferecido. Fuja dessa empresa! \n",
      "\n",
      "Essa empresa de internet é um verdadeiro pesadelo. A velocidade é uma piada, a conexão falha constantemente e o suporte técnico é ineficaz. É uma completa falta de respeito com os clientes. Evite essa empresa a todo custo! \n",
      "\n",
      "Essa empresa de internet é um verdadeiro pesadelo. A velocidade é extremamente lenta, a conexão é instável e o suporte técnico é ineficiente. É uma completa falta de respeito com os clientes. Fuja dessa empresa! \n",
      "\n",
      "A velocidade da internet está abaixo do esperado. Não consigo fazer download de arquivos grandes e o streaming de vídeos fica travando frequentemente. Já entrei em contato com o suporte técnico, mas o problema persiste. Espero que seja resolvido em breve. \n",
      "\n",
      "A velocidade da internet é boa, mas enfrento problemas constantes de instabilidade na conexão. Preciso reiniciar o modem com frequência para restaurar a conexão. \n",
      "\n"
     ]
    }
   ],
   "source": [
    "df_detrator_internet = df_detratores[df_detratores[\"service\"]==\"Internet\"].sample(10)\n",
    "for comment in df_detrator_internet[\"comments\"].unique():\n",
    "    print(comment,'\\n')"
   ]
  },
  {
   "cell_type": "markdown",
   "id": "dd0d436c",
   "metadata": {},
   "source": [
    "As reclamações relacionadas a Internet são bem padroes e razoavelmente generias, sempre apontando **Velocidade** e **Estabilidade** como problemas\n",
    "\n",
    "Vamos explorar as localidades"
   ]
  },
  {
   "cell_type": "code",
   "execution_count": 67,
   "id": "51afca5f",
   "metadata": {},
   "outputs": [
    {
     "data": {
      "text/plain": [
       "location\n",
       "RJ    6\n",
       "MG    2\n",
       "SP    2\n",
       "Name: count, dtype: int64"
      ]
     },
     "execution_count": 67,
     "metadata": {},
     "output_type": "execute_result"
    }
   ],
   "source": [
    "df_detrator_internet['location'].value_counts()\n"
   ]
  },
  {
   "cell_type": "code",
   "execution_count": 68,
   "id": "4ae4d680",
   "metadata": {},
   "outputs": [
    {
     "data": {
      "text/plain": [
       "location\n",
       "MG    6\n",
       "RJ    4\n",
       "RS    4\n",
       "SP    2\n",
       "Name: count, dtype: int64"
      ]
     },
     "execution_count": 68,
     "metadata": {},
     "output_type": "execute_result"
    }
   ],
   "source": [
    "df[(df['service']=='Internet') & (df['classificacao']=='Promotor')]['location'].value_counts()\n"
   ]
  },
  {
   "cell_type": "markdown",
   "id": "46bbfd2c",
   "metadata": {},
   "source": [
    "Em **MG** e **RS** o serviço parece apresentar maior qualidade no entanto **RJ** e **SP** apresentam uma situação mais dividida, vamos aprofundar no perfil dos clientes dessas regiões"
   ]
  },
  {
   "cell_type": "code",
   "execution_count": 69,
   "id": "bd53a24a",
   "metadata": {},
   "outputs": [
    {
     "data": {
      "text/html": [
       "<div>\n",
       "<style scoped>\n",
       "    .dataframe tbody tr th:only-of-type {\n",
       "        vertical-align: middle;\n",
       "    }\n",
       "\n",
       "    .dataframe tbody tr th {\n",
       "        vertical-align: top;\n",
       "    }\n",
       "\n",
       "    .dataframe thead th {\n",
       "        text-align: right;\n",
       "    }\n",
       "</style>\n",
       "<table border=\"1\" class=\"dataframe\">\n",
       "  <thead>\n",
       "    <tr style=\"text-align: right;\">\n",
       "      <th></th>\n",
       "      <th>qtd_dependents</th>\n",
       "      <th>price</th>\n",
       "    </tr>\n",
       "    <tr>\n",
       "      <th>classificacao</th>\n",
       "      <th></th>\n",
       "      <th></th>\n",
       "    </tr>\n",
       "  </thead>\n",
       "  <tbody>\n",
       "    <tr>\n",
       "      <th>Detrator</th>\n",
       "      <td>2.0</td>\n",
       "      <td>149.99</td>\n",
       "    </tr>\n",
       "    <tr>\n",
       "      <th>Promotor</th>\n",
       "      <td>0.0</td>\n",
       "      <td>114.99</td>\n",
       "    </tr>\n",
       "  </tbody>\n",
       "</table>\n",
       "</div>"
      ],
      "text/plain": [
       "               qtd_dependents   price\n",
       "classificacao                        \n",
       "Detrator                  2.0  149.99\n",
       "Promotor                  0.0  114.99"
      ]
     },
     "execution_count": 69,
     "metadata": {},
     "output_type": "execute_result"
    }
   ],
   "source": [
    "df[(df['service']=='Internet') &(df['location'].isin(['SP','RJ']))][['qtd_dependents','price','classificacao']].groupby('classificacao').median()"
   ]
  },
  {
   "cell_type": "markdown",
   "id": "3efc4e31",
   "metadata": {},
   "source": [
    "Parece ser comum entre os Detratores tem mais dependentes mesmo que já possuam planos, na média, superiores aos Promotores\\\n",
    "a qualidade do serviço parece não atender esses clientes.\n",
    "\n",
    "Um estudo mais aprofundado nesses casos podem trazer mais insights como:\\\n",
    "Será que essa instabilidade é na casa toda?\\\n",
    "Será que existem periodos que a instabilidade é mais marcante?\n",
    "\n",
    "Aqui vejo uma ótima oportunidade de cross-selling (pensando em mesh para maior cobertura na casa)\\\n",
    "Ou soluções baseadas em educar nosso cliente\\\n",
    "(será que priorizar a navegação dos dispositivos do cliente sobre os dos dependentes, torna a percepção do serviço melhor?)"
   ]
  },
  {
   "cell_type": "code",
   "execution_count": 70,
   "id": "b0944093",
   "metadata": {},
   "outputs": [
    {
     "name": "stdout",
     "output_type": "stream",
     "text": [
      "Promotores: 16\n",
      "Detratores: 15\n",
      "Neutros: 0\n",
      "NPS: 3.23\n"
     ]
    }
   ],
   "source": [
    "nps = calcular_nps(df[(df['service']=='Internet')])"
   ]
  },
  {
   "cell_type": "markdown",
   "id": "0789fc78",
   "metadata": {},
   "source": [
    "\n",
    "Internet: 3 -> 61 (Saindo da Zona de aperfeiçoamento para a Zona de Sucesso)\\\n",
    "NPS Geral: 1 -> 18 (Pensando nessa ação de forma individual)"
   ]
  },
  {
   "cell_type": "markdown",
   "id": "bcad3a4c",
   "metadata": {},
   "source": [
    "### Telefonia Fixa"
   ]
  },
  {
   "cell_type": "markdown",
   "id": "6050eac9",
   "metadata": {},
   "source": [
    "Obs.: Pulamos o serviço de TV por suas reclamações serem mais focadas em atendimento, que trataremos em outro ipynb"
   ]
  },
  {
   "cell_type": "code",
   "execution_count": 74,
   "id": "588f87b9",
   "metadata": {},
   "outputs": [
    {
     "name": "stdout",
     "output_type": "stream",
     "text": [
      "Estou profundamente insatisfeita com o serviço de telefonia fixa. As ligações são constantemente interrompidas, e a qualidade do som é péssima. Além disso, o atendimento ao cliente é ineficiente e não resolve meus problemas. Não recomendo essa empresa de forma alguma. \n",
      "\n",
      "O serviço de telefonia fixa dessa empresa é um verdadeiro desastre. As ligações são constantemente cortadas, o som é horrível e o atendimento ao cliente é simplesmente inútil. É uma experiência frustrante e não vale o dinheiro investido. \n",
      "\n",
      "O serviço de telefonia fixa dessa empresa é um verdadeiro pesadelo. As ligações caem o tempo todo, o som é terrível e o suporte técnico é ineficiente. É uma experiência frustrante e desgastante lidar com essa empresa. \n",
      "\n",
      "O serviço de telefonia fixa dessa empresa é uma completa piada. As ligações são constantemente cortadas, o som é horrível e o suporte técnico não resolve nada. É uma experiência frustrante e não recomendo a ninguém. \n",
      "\n",
      "O serviço de telefonia fixa dessa empresa é uma verdadeira piada. As ligações são frequentemente cortadas, o som é terrível e o suporte técnico não é capaz de resolver os problemas. É uma experiência frustrante e não recomendo a ninguém. \n",
      "\n",
      "O serviço de telefonia fixa dessa empresa é um verdadeiro desastre. As ligações são frequentemente cortadas, o som é horrível e o suporte técnico não resolve os problemas. É uma experiência frustrante e uma completa perda de tempo e dinheiro. \n",
      "\n",
      "O serviço de telefonia fixa dessa empresa é um verdadeiro desastre. As chamadas são constantemente interrompidas, o som é terrível e o suporte técnico é ineficiente. É uma experiência frustrante e uma completa perda de tempo e dinheiro. \n",
      "\n",
      "A telefonia fixa dessa empresa é uma vergonha. As chamadas são frequentemente interrompidas, o som é horrível e o suporte técnico não resolve os problemas. É uma completa perda de tempo e dinheiro. \n",
      "\n"
     ]
    }
   ],
   "source": [
    "df_detrator_fixa = df_detratores[df_detratores[\"service\"]==\"Telefonia Fixa\"]\n",
    "for comment in df_detrator_fixa[\"comments\"].unique():\n",
    "    print(comment,'\\n')"
   ]
  },
  {
   "cell_type": "markdown",
   "id": "1ea3da10",
   "metadata": {},
   "source": [
    "As reclamações aqui se assemelham bastante ao que vimos na telefonia movel, será que é o mesmo problema?\n",
    "\n",
    "Vamos olhar a regional"
   ]
  },
  {
   "cell_type": "code",
   "execution_count": 75,
   "id": "059c73ab",
   "metadata": {},
   "outputs": [
    {
     "data": {
      "text/plain": [
       "location\n",
       "MG    7\n",
       "RJ    1\n",
       "Name: count, dtype: int64"
      ]
     },
     "execution_count": 75,
     "metadata": {},
     "output_type": "execute_result"
    }
   ],
   "source": [
    "df_detrator_fixa['location'].value_counts()"
   ]
  },
  {
   "cell_type": "markdown",
   "id": "94872103",
   "metadata": {},
   "source": [
    "Não é na mesma regional (RS), mas segue parecendo um problema semelhante, vamos seguir com a mesma analise"
   ]
  },
  {
   "cell_type": "code",
   "execution_count": 77,
   "id": "15865b4e",
   "metadata": {},
   "outputs": [
    {
     "data": {
      "text/html": [
       "<div>\n",
       "<style scoped>\n",
       "    .dataframe tbody tr th:only-of-type {\n",
       "        vertical-align: middle;\n",
       "    }\n",
       "\n",
       "    .dataframe tbody tr th {\n",
       "        vertical-align: top;\n",
       "    }\n",
       "\n",
       "    .dataframe thead th {\n",
       "        text-align: right;\n",
       "    }\n",
       "</style>\n",
       "<table border=\"1\" class=\"dataframe\">\n",
       "  <thead>\n",
       "    <tr style=\"text-align: right;\">\n",
       "      <th></th>\n",
       "      <th>id</th>\n",
       "      <th>name</th>\n",
       "      <th>age</th>\n",
       "      <th>gender</th>\n",
       "      <th>location</th>\n",
       "      <th>marital_status</th>\n",
       "      <th>qtd_dependents</th>\n",
       "      <th>start_date</th>\n",
       "      <th>churn_date</th>\n",
       "      <th>price</th>\n",
       "      <th>service</th>\n",
       "      <th>tma</th>\n",
       "      <th>data_volume</th>\n",
       "      <th>qtd_appointments</th>\n",
       "      <th>comments</th>\n",
       "      <th>churn</th>\n",
       "      <th>classificacao</th>\n",
       "      <th>topic</th>\n",
       "    </tr>\n",
       "  </thead>\n",
       "  <tbody>\n",
       "    <tr>\n",
       "      <th>26</th>\n",
       "      <td>1022</td>\n",
       "      <td>Ricardo Fernandes</td>\n",
       "      <td>45</td>\n",
       "      <td>Masculino</td>\n",
       "      <td>MG</td>\n",
       "      <td>Casado</td>\n",
       "      <td>3</td>\n",
       "      <td>2017-08-01</td>\n",
       "      <td>NaN</td>\n",
       "      <td>189.99</td>\n",
       "      <td>Telefonia Fixa</td>\n",
       "      <td>414.0</td>\n",
       "      <td>0.0</td>\n",
       "      <td>0.0</td>\n",
       "      <td>O serviço de telefonia fixa atende às minhas n...</td>\n",
       "      <td>False</td>\n",
       "      <td>Promotor</td>\n",
       "      <td>internet_connection</td>\n",
       "    </tr>\n",
       "    <tr>\n",
       "      <th>40</th>\n",
       "      <td>1036</td>\n",
       "      <td>Rodrigo Fernandes</td>\n",
       "      <td>46</td>\n",
       "      <td>Masculino</td>\n",
       "      <td>MG</td>\n",
       "      <td>Casado</td>\n",
       "      <td>3</td>\n",
       "      <td>2017-08-01</td>\n",
       "      <td>NaN</td>\n",
       "      <td>189.99</td>\n",
       "      <td>Telefonia Fixa</td>\n",
       "      <td>414.0</td>\n",
       "      <td>0.0</td>\n",
       "      <td>0.0</td>\n",
       "      <td>O serviço de telefonia fixa atende às minhas n...</td>\n",
       "      <td>False</td>\n",
       "      <td>Promotor</td>\n",
       "      <td>internet_connection</td>\n",
       "    </tr>\n",
       "  </tbody>\n",
       "</table>\n",
       "</div>"
      ],
      "text/plain": [
       "      id               name  age     gender location marital_status  \\\n",
       "26  1022  Ricardo Fernandes   45  Masculino       MG         Casado   \n",
       "40  1036  Rodrigo Fernandes   46  Masculino       MG         Casado   \n",
       "\n",
       "    qtd_dependents  start_date churn_date   price         service    tma  \\\n",
       "26               3  2017-08-01        NaN  189.99  Telefonia Fixa  414.0   \n",
       "40               3  2017-08-01        NaN  189.99  Telefonia Fixa  414.0   \n",
       "\n",
       "    data_volume  qtd_appointments  \\\n",
       "26          0.0               0.0   \n",
       "40          0.0               0.0   \n",
       "\n",
       "                                             comments  churn classificacao  \\\n",
       "26  O serviço de telefonia fixa atende às minhas n...  False      Promotor   \n",
       "40  O serviço de telefonia fixa atende às minhas n...  False      Promotor   \n",
       "\n",
       "                  topic  \n",
       "26  internet_connection  \n",
       "40  internet_connection  "
      ]
     },
     "execution_count": 77,
     "metadata": {},
     "output_type": "execute_result"
    }
   ],
   "source": [
    "df[(df['service']=='Telefonia Fixa') & (df['location']=='MG') & (df['classificacao']=='Promotor')]"
   ]
  },
  {
   "cell_type": "code",
   "execution_count": 78,
   "id": "29c6e854",
   "metadata": {},
   "outputs": [
    {
     "data": {
      "image/png": "[encoded data removed]",
      "text/plain": [
       "<Figure size 640x480 with 1 Axes>"
      ]
     },
     "metadata": {},
     "output_type": "display_data"
    }
   ],
   "source": [
    "df['tma'].plot(kind='hist')\n",
    "\n",
    "plt.axvline(x=414, color='red', linestyle='--', label='414')\n",
    "plt.legend()\n",
    "plt.show()"
   ]
  },
  {
   "cell_type": "code",
   "execution_count": 79,
   "id": "e67b4abd",
   "metadata": {},
   "outputs": [
    {
     "data": {
      "image/png": "[encoded data removed]",
      "text/plain": [
       "<Figure size 640x480 with 1 Axes>"
      ]
     },
     "metadata": {},
     "output_type": "display_data"
    }
   ],
   "source": [
    "df['price'].plot(kind='hist')\n",
    "\n",
    "plt.axvline(x=190, color='red', linestyle='--', label='189.99')\n",
    "plt.legend()\n",
    "plt.show()"
   ]
  },
  {
   "cell_type": "code",
   "execution_count": 81,
   "id": "d0991347",
   "metadata": {},
   "outputs": [
    {
     "data": {
      "text/html": [
       "<div>\n",
       "<style scoped>\n",
       "    .dataframe tbody tr th:only-of-type {\n",
       "        vertical-align: middle;\n",
       "    }\n",
       "\n",
       "    .dataframe tbody tr th {\n",
       "        vertical-align: top;\n",
       "    }\n",
       "\n",
       "    .dataframe thead th {\n",
       "        text-align: right;\n",
       "    }\n",
       "</style>\n",
       "<table border=\"1\" class=\"dataframe\">\n",
       "  <thead>\n",
       "    <tr style=\"text-align: right;\">\n",
       "      <th></th>\n",
       "      <th>tma</th>\n",
       "      <th>price</th>\n",
       "    </tr>\n",
       "    <tr>\n",
       "      <th>classificacao</th>\n",
       "      <th></th>\n",
       "      <th></th>\n",
       "    </tr>\n",
       "  </thead>\n",
       "  <tbody>\n",
       "    <tr>\n",
       "      <th>Detrator</th>\n",
       "      <td>144.0</td>\n",
       "      <td>99.99</td>\n",
       "    </tr>\n",
       "    <tr>\n",
       "      <th>Promotor</th>\n",
       "      <td>414.0</td>\n",
       "      <td>189.99</td>\n",
       "    </tr>\n",
       "  </tbody>\n",
       "</table>\n",
       "</div>"
      ],
      "text/plain": [
       "                 tma   price\n",
       "classificacao               \n",
       "Detrator       144.0   99.99\n",
       "Promotor       414.0  189.99"
      ]
     },
     "execution_count": 81,
     "metadata": {},
     "output_type": "execute_result"
    }
   ],
   "source": [
    "df[(df['service']=='Telefonia Fixa') & (df['location']=='MG')][['tma','price','classificacao']].groupby('classificacao').median()"
   ]
  },
  {
   "cell_type": "markdown",
   "id": "dee326eb",
   "metadata": {},
   "source": [
    "Vejo varias semelhanças, temos também promotores do serviço na região com um TMA bem alto e também chama atenção o preço.\n",
    "\n",
    "Aqui mais uma vez podemos estar diante de um desalinhamento da expectativa da qualidade do produto,\\\n",
    "já que os Promotores utilizam de produtos mais topo de linha"
   ]
  },
  {
   "cell_type": "code",
   "execution_count": 82,
   "id": "55d19194",
   "metadata": {},
   "outputs": [
    {
     "name": "stdout",
     "output_type": "stream",
     "text": [
      "Promotores: 14\n",
      "Detratores: 8\n",
      "Neutros: 1\n",
      "NPS: 26.09\n"
     ]
    }
   ],
   "source": [
    "nps = calcular_nps(df[(df['service']=='Telefonia Fixa')])"
   ]
  },
  {
   "cell_type": "markdown",
   "id": "127be725",
   "metadata": {},
   "source": [
    "Telefonia Fixa já é um dos carros chefe da empresa, mas resolver esse problema moveria o NPS:\n",
    "\n",
    "Telefonia Fixa: 26 -> 86 (Saindo da Zona de Aperfeiçoamento, beirando a Zona de Excelencia)\\\n",
    "NPS Geral: 1 -> 14"
   ]
  },
  {
   "cell_type": "markdown",
   "id": "1d6ef1fd",
   "metadata": {},
   "source": [
    "Ao longo desse IPYNB listamos 3 ações que podem melhorar em muito o NPS individual de cada um dos serviços:\n",
    "\n",
    "Telefonia Movel: Resolver o problema tecnico em RS sobre qualidade de som, cobertura e falhas (-9 -> 65)\\\n",
    "Internet: Explorar soluções para multiplos usuarios na rede, focado em SP (3 -> 61)\\\n",
    "Telefonia Fixa: Investigar o problema tecnico em MG sobre qualidade de som e falhas propor upselling (26 -> 86)\n",
    "\n",
    "E se todas essas ações forem implatadas com sucesso:\\\n",
    "NPS Geral: 1 -> 50 \n",
    "\n",
    "(25D->P)"
   ]
  },
  {
   "cell_type": "markdown",
   "id": "9fa2f44d",
   "metadata": {},
   "source": []
  }
 ],
 "metadata": {
  "kernelspec": {
   "display_name": ".venv",
   "language": "python",
   "name": "python3"
  },
  "language_info": {
   "codemirror_mode": {
    "name": "ipython",
    "version": 3
   },
   "file_extension": ".py",
   "mimetype": "text/x-python",
   "name": "python",
   "nbconvert_exporter": "python",
   "pygments_lexer": "ipython3",
   "version": "3.12.3"
  }
 },
 "nbformat": 4,
 "nbformat_minor": 5
}
